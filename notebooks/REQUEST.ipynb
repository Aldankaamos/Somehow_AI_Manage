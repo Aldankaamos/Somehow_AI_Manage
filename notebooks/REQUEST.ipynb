{
 "cells": [
  {
   "cell_type": "code",
   "execution_count": 19,
   "id": "f3be2281-64f7-4718-aa59-26d7e876b3fd",
   "metadata": {},
   "outputs": [
    {
     "name": "stdout",
     "output_type": "stream",
     "text": [
      "{'message': 'Prediction and metrics update successful'}\n"
     ]
    }
   ],
   "source": [
    "import requests\n",
    "\n",
    "url = 'http://localhost:5001/predict'\n",
    "headers = {'Content-Type': 'application/json'}\n",
    "data = {\n",
    "    \"run_id\": \"6852c887552646bcbe3f8c8e1aa98035\",\n",
    "    \"file_path\": \"directory/amzn.us.txt\",\n",
    "    \"start_date\": \"2014-04-01\",\n",
    "    \"end_date\": \"2014-12-01\"\n",
    "}\n",
    "\n",
    "response = requests.post(url, json=data, headers=headers)\n",
    "print(response.json())\n"
   ]
  },
  {
   "cell_type": "code",
   "execution_count": 4,
   "id": "344ee661-cdf2-4a9c-9bd8-961bd61c87b9",
   "metadata": {},
   "outputs": [
    {
     "name": "stdout",
     "output_type": "stream",
     "text": [
      "{'message': 'Prediction and metrics update successful'}\n"
     ]
    },
    {
     "ename": "KeyboardInterrupt",
     "evalue": "",
     "output_type": "error",
     "traceback": [
      "\u001b[0;31m---------------------------------------------------------------------------\u001b[0m",
      "\u001b[0;31mKeyboardInterrupt\u001b[0m                         Traceback (most recent call last)",
      "Cell \u001b[0;32mIn[4], line 38\u001b[0m\n\u001b[1;32m     35\u001b[0m current_date \u001b[38;5;241m=\u001b[39m add_two_months(current_date)\n\u001b[1;32m     37\u001b[0m \u001b[38;5;66;03m# Wait for one minute before sending the next request\u001b[39;00m\n\u001b[0;32m---> 38\u001b[0m \u001b[43mtime\u001b[49m\u001b[38;5;241;43m.\u001b[39;49m\u001b[43msleep\u001b[49m\u001b[43m(\u001b[49m\u001b[38;5;241;43m60\u001b[39;49m\u001b[43m)\u001b[49m\n",
      "\u001b[0;31mKeyboardInterrupt\u001b[0m: "
     ]
    }
   ],
   "source": [
    "import datetime\n",
    "import time\n",
    "import requests\n",
    "import numpy as np\n",
    "\n",
    "# Function to add two months to a given date\n",
    "def add_two_months(date):\n",
    "    new_month = date.month + 3\n",
    "    new_year = date.year + new_month // 12\n",
    "    new_month = new_month % 12 or 12\n",
    "    return datetime.datetime(new_year, new_month, date.day)\n",
    "\n",
    "# Set initial date\n",
    "current_date = datetime.datetime(2000, 4, 1)\n",
    "\n",
    "# Define endpoint and headers\n",
    "url = 'http://localhost:5001/predict'\n",
    "headers = {'Content-Type': 'application/json'}\n",
    "\n",
    "# Loop to send requests\n",
    "while current_date < datetime.datetime.now():\n",
    "    # Create data for the request\n",
    "    data = {\n",
    "        \"run_id\": \"6852c887552646bcbe3f8c8e1aa98035\",\n",
    "        \"file_path\": \"directory/amzn.us.txt\",\n",
    "        \"start_date\": current_date.strftime(\"%Y-%m-%d\"),\n",
    "        \"end_date\": add_two_months(current_date).strftime(\"%Y-%m-%d\")\n",
    "    }\n",
    "    \n",
    "    # Send request\n",
    "    response = requests.post(url, json=data, headers=headers)\n",
    "    print(response.json())\n",
    "    \n",
    "    # Increment current date by two months\n",
    "    current_date = add_two_months(current_date)\n",
    "    \n",
    "    # Wait for one minute before sending the next request\n",
    "    time.sleep(60)\n"
   ]
  },
  {
   "cell_type": "code",
   "execution_count": null,
   "id": "89b592ee-da95-42bf-9123-31581443c2a5",
   "metadata": {},
   "outputs": [],
   "source": []
  }
 ],
 "metadata": {
  "kernelspec": {
   "display_name": "Python 3 (ipykernel)",
   "language": "python",
   "name": "python3"
  },
  "language_info": {
   "codemirror_mode": {
    "name": "ipython",
    "version": 3
   },
   "file_extension": ".py",
   "mimetype": "text/x-python",
   "name": "python",
   "nbconvert_exporter": "python",
   "pygments_lexer": "ipython3",
   "version": "3.10.12"
  }
 },
 "nbformat": 4,
 "nbformat_minor": 5
}
