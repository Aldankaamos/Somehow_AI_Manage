{
 "cells": [
  {
   "cell_type": "code",
   "execution_count": 6,
   "id": "6ae9673d-d017-4163-a513-20e0adf76b70",
   "metadata": {},
   "outputs": [
    {
     "data": {
      "text/html": [
       "<div>\n",
       "<style scoped>\n",
       "    .dataframe tbody tr th:only-of-type {\n",
       "        vertical-align: middle;\n",
       "    }\n",
       "\n",
       "    .dataframe tbody tr th {\n",
       "        vertical-align: top;\n",
       "    }\n",
       "\n",
       "    .dataframe thead th {\n",
       "        text-align: right;\n",
       "    }\n",
       "</style>\n",
       "<table border=\"1\" class=\"dataframe\">\n",
       "  <thead>\n",
       "    <tr style=\"text-align: right;\">\n",
       "      <th></th>\n",
       "      <th>Date</th>\n",
       "      <th>Open</th>\n",
       "      <th>High</th>\n",
       "      <th>Low</th>\n",
       "      <th>Close</th>\n",
       "      <th>Volume</th>\n",
       "      <th>OpenInt</th>\n",
       "    </tr>\n",
       "  </thead>\n",
       "  <tbody>\n",
       "    <tr>\n",
       "      <th>0</th>\n",
       "      <td>1997-05-16</td>\n",
       "      <td>1.97</td>\n",
       "      <td>1.98</td>\n",
       "      <td>1.71</td>\n",
       "      <td>1.73</td>\n",
       "      <td>14700000</td>\n",
       "      <td>0</td>\n",
       "    </tr>\n",
       "    <tr>\n",
       "      <th>1</th>\n",
       "      <td>1997-05-19</td>\n",
       "      <td>1.76</td>\n",
       "      <td>1.77</td>\n",
       "      <td>1.62</td>\n",
       "      <td>1.71</td>\n",
       "      <td>6106800</td>\n",
       "      <td>0</td>\n",
       "    </tr>\n",
       "    <tr>\n",
       "      <th>2</th>\n",
       "      <td>1997-05-20</td>\n",
       "      <td>1.73</td>\n",
       "      <td>1.75</td>\n",
       "      <td>1.64</td>\n",
       "      <td>1.64</td>\n",
       "      <td>5467200</td>\n",
       "      <td>0</td>\n",
       "    </tr>\n",
       "    <tr>\n",
       "      <th>3</th>\n",
       "      <td>1997-05-21</td>\n",
       "      <td>1.64</td>\n",
       "      <td>1.65</td>\n",
       "      <td>1.38</td>\n",
       "      <td>1.43</td>\n",
       "      <td>18853200</td>\n",
       "      <td>0</td>\n",
       "    </tr>\n",
       "    <tr>\n",
       "      <th>4</th>\n",
       "      <td>1997-05-22</td>\n",
       "      <td>1.44</td>\n",
       "      <td>1.45</td>\n",
       "      <td>1.31</td>\n",
       "      <td>1.40</td>\n",
       "      <td>11776800</td>\n",
       "      <td>0</td>\n",
       "    </tr>\n",
       "  </tbody>\n",
       "</table>\n",
       "</div>"
      ],
      "text/plain": [
       "         Date  Open  High   Low  Close    Volume  OpenInt\n",
       "0  1997-05-16  1.97  1.98  1.71   1.73  14700000        0\n",
       "1  1997-05-19  1.76  1.77  1.62   1.71   6106800        0\n",
       "2  1997-05-20  1.73  1.75  1.64   1.64   5467200        0\n",
       "3  1997-05-21  1.64  1.65  1.38   1.43  18853200        0\n",
       "4  1997-05-22  1.44  1.45  1.31   1.40  11776800        0"
      ]
     },
     "execution_count": 6,
     "metadata": {},
     "output_type": "execute_result"
    }
   ],
   "source": [
    "import pandas as pd\n",
    "import matplotlib.pyplot as plt\n",
    "import seaborn as sns\n",
    "\n",
    "# Paso 1: Cargar el conjunto de datos\n",
    "df = pd.read_csv('amzn.us.txt')  \n",
    "\n",
    "# Drop rows with NaN values\n",
    "df_cleaned = df.dropna()\n",
    "\n",
    "df.head()"
   ]
  },
  {
   "cell_type": "code",
   "execution_count": 27,
   "id": "6bfe31b6-9552-4395-aef5-89f60438aa22",
   "metadata": {},
   "outputs": [
    {
     "ename": "SyntaxError",
     "evalue": "invalid syntax (2601162107.py, line 1)",
     "output_type": "error",
     "traceback": [
      "\u001b[0;36m  Cell \u001b[0;32mIn[27], line 1\u001b[0;36m\u001b[0m\n\u001b[0;31m    Date: Esta columna generalmente representa la fecha en la que se registraron los datos. En un conjunto de datos financiero, cada fila suele corresponder a un día de negociación, y esta columna registra la fecha de ese día.\u001b[0m\n\u001b[0m               ^\u001b[0m\n\u001b[0;31mSyntaxError\u001b[0m\u001b[0;31m:\u001b[0m invalid syntax\n"
     ]
    }
   ],
   "source": [
    "    Date: Esta columna generalmente representa la fecha en la que se registraron los datos. En un conjunto de datos financiero, cada fila suele corresponder a un día de negociación, y esta columna registra la fecha de ese día.\n",
    "\n",
    "    Open: Este es el precio de apertura de una acción o un ETF en un día de negociación específico. Es el precio al que la primera transacción de la acción o ETF se realizó ese día.\n",
    "\n",
    "    High: Este es el precio más alto al que se negoció una acción o un ETF durante el día de negociación.\n",
    "\n",
    "    Low: Este es el precio más bajo al que se negoció una acción o un ETF durante el día de negociación.\n",
    "\n",
    "    Close: Este es el precio de cierre de una acción o un ETF en un día de negociación específico. Es el precio al que se realizó la última transacción de la acción o ETF ese día.\n",
    "\n",
    "    Volume: Este es el número total de acciones o unidades de un ETF que se negociaron durante el día de negociación.\n",
    "\n",
    "    OpenInt: Este es el interés abierto, que es el número total de contratos de opciones o futuros que están abiertos y aún no se han liquidado al final del día de negociación."
   ]
  },
  {
   "cell_type": "code",
   "execution_count": null,
   "id": "f9c81f20-e7af-4a3a-9769-ae2cd7fff16e",
   "metadata": {},
   "outputs": [],
   "source": []
  }
 ],
 "metadata": {
  "kernelspec": {
   "display_name": "Python 3 (ipykernel)",
   "language": "python",
   "name": "python3"
  },
  "language_info": {
   "codemirror_mode": {
    "name": "ipython",
    "version": 3
   },
   "file_extension": ".py",
   "mimetype": "text/x-python",
   "name": "python",
   "nbconvert_exporter": "python",
   "pygments_lexer": "ipython3",
   "version": "3.11.0rc1"
  }
 },
 "nbformat": 4,
 "nbformat_minor": 5
}
