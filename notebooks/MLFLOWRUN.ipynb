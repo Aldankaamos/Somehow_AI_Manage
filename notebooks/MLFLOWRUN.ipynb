{
 "cells": [
  {
   "cell_type": "code",
   "execution_count": 4,
   "id": "3a19d4df-cf86-48c8-9134-e3298f0feffa",
   "metadata": {},
   "outputs": [
    {
     "name": "stdout",
     "output_type": "stream",
     "text": [
      "(68, 1)\n",
      "[0.19404088] [0.19404088] [0.11967496] [0.00246245] [0.00984979]\n",
      "[array([0.19404088, 0.19404088, 0.11967496, 0.00246245, 0.00984979,\n",
      "       0.14651564, 0.16030534, 0.12459985, 0.03816794, 0.13444964,\n",
      "       0.05983748, 0.17926619, 0.14159074, 0.24131987, 0.32356562,\n",
      "       0.31125339, 0.23417877, 0.1319872 , 0.00246245, 0.07682837,\n",
      "       0.        , 0.10514652, 0.1743413 , 0.20635311, 0.27505541,\n",
      "       0.22974637, 0.25855701, 0.40187146, 0.7365181 , 0.7013051 ,\n",
      "       0.7150948 , 0.72962325, 0.7365181 , 0.67938931, 0.7200197 ,\n",
      "       0.70007387, 0.71410983, 0.70007387, 0.69539522, 0.66141344,\n",
      "       0.7623738 , 0.68554543, 0.76483625, 0.83698596, 0.79586309,\n",
      "       0.83452352, 0.90150209, 0.81753263, 0.79586309, 0.87244521])]\n",
      "\n",
      "[array([0.19404088, 0.19404088, 0.11967496, 0.00246245, 0.00984979,\n",
      "       0.14651564, 0.16030534, 0.12459985, 0.03816794, 0.13444964,\n",
      "       0.05983748, 0.17926619, 0.14159074, 0.24131987, 0.32356562,\n",
      "       0.31125339, 0.23417877, 0.1319872 , 0.00246245, 0.07682837,\n",
      "       0.        , 0.10514652, 0.1743413 , 0.20635311, 0.27505541,\n",
      "       0.22974637, 0.25855701, 0.40187146, 0.7365181 , 0.7013051 ,\n",
      "       0.7150948 , 0.72962325, 0.7365181 , 0.67938931, 0.7200197 ,\n",
      "       0.70007387, 0.71410983, 0.70007387, 0.69539522, 0.66141344,\n",
      "       0.7623738 , 0.68554543, 0.76483625, 0.83698596, 0.79586309,\n",
      "       0.83452352, 0.90150209, 0.81753263, 0.79586309, 0.87244521]), array([0.19404088, 0.11967496, 0.00246245, 0.00984979, 0.14651564,\n",
      "       0.16030534, 0.12459985, 0.03816794, 0.13444964, 0.05983748,\n",
      "       0.17926619, 0.14159074, 0.24131987, 0.32356562, 0.31125339,\n",
      "       0.23417877, 0.1319872 , 0.00246245, 0.07682837, 0.        ,\n",
      "       0.10514652, 0.1743413 , 0.20635311, 0.27505541, 0.22974637,\n",
      "       0.25855701, 0.40187146, 0.7365181 , 0.7013051 , 0.7150948 ,\n",
      "       0.72962325, 0.7365181 , 0.67938931, 0.7200197 , 0.70007387,\n",
      "       0.71410983, 0.70007387, 0.69539522, 0.66141344, 0.7623738 ,\n",
      "       0.68554543, 0.76483625, 0.83698596, 0.79586309, 0.83452352,\n",
      "       0.90150209, 0.81753263, 0.79586309, 0.87244521, 0.87737011])]\n",
      "\n",
      "test: (18, 50, 1)\n"
     ]
    }
   ],
   "source": [
    "import tensorflow as tf\n",
    "import pandas as pd\n",
    "import os\n",
    "import datetime as dt\n",
    "import numpy as np\n",
    "import matplotlib.pyplot as plt\n",
    "import math\n",
    "from sklearn.preprocessing import MinMaxScaler\n",
    "\n",
    "# Start and end dates for the filter\n",
    "start_date = dt.datetime(2015, 1, 1)\n",
    "end_date = dt.datetime(2015, 4, 10)\n",
    "\n",
    "# Descargar los datos\n",
    "df = pd.read_csv('directory/amzn.us.txt')\n",
    "df = df[['Date', 'Open']]\n",
    "df['Date'] = pd.to_datetime(df['Date'])\n",
    "df.set_index('Date', inplace=True)\n",
    "\n",
    "df = df.loc[start_date:end_date]\n",
    "\n",
    "test_data = data.iloc[:, :1]\n",
    "\n",
    "print(test_data.shape)\n",
    "\n",
    "scaler = MinMaxScaler(feature_range=(0,1))\n",
    "\n",
    "# Selecting Temperature values\n",
    "dataset_test = test_data.Open.values \n",
    "# Reshaping 1D to 2D array\n",
    "dataset_test = np.reshape(dataset_test, (-1,1)) \n",
    "# Normalizing values between 0 and 1\n",
    "scaled_test = scaler.fit_transform(dataset_test) \n",
    "print(*scaled_test[:5])\n",
    "\n",
    "# Preparing test data for LSTM\n",
    "test = []\n",
    "for i in range(50, len(scaled_test)):\n",
    "    test.append(scaled_test[i-50:i, 0])\n",
    "    if i <= 51:\n",
    "        print(test)\n",
    "        print()\n",
    "\n",
    "# The data is converted to numpy array\n",
    "test = np.array(test)\n",
    "\n",
    "# Reshaping\n",
    "test = np.reshape(test, (test.shape[0], test.shape[1],1))\n",
    "print(\"test:\", test.shape)\n"
   ]
  },
  {
   "cell_type": "code",
   "execution_count": 5,
   "id": "97ad9e4a-4348-4d8e-a441-21ba8e12c9b3",
   "metadata": {},
   "outputs": [
    {
     "name": "stdout",
     "output_type": "stream",
     "text": [
      "\u001b[1m1/1\u001b[0m \u001b[32m━━━━━━━━━━━━━━━━━━━━\u001b[0m\u001b[37m\u001b[0m \u001b[1m0s\u001b[0m 326ms/step\n"
     ]
    },
    {
     "data": {
      "text/plain": [
       "array([[0.86531657],\n",
       "       [0.8803408 ],\n",
       "       [0.97091347],\n",
       "       [0.8805478 ],\n",
       "       [0.9973794 ],\n",
       "       [0.8214668 ],\n",
       "       [0.7769736 ],\n",
       "       [0.7201404 ],\n",
       "       [0.30790612],\n",
       "       [0.39882645],\n",
       "       [0.5482319 ],\n",
       "       [0.530482  ],\n",
       "       [0.44081327],\n",
       "       [0.4766867 ],\n",
       "       [0.43900585],\n",
       "       [0.60219723],\n",
       "       [0.6758523 ],\n",
       "       [0.654556  ]], dtype=float32)"
      ]
     },
     "execution_count": 5,
     "metadata": {},
     "output_type": "execute_result"
    }
   ],
   "source": [
    "import mlflow\n",
    "\n",
    "mlflow.set_tracking_uri(\"http://127.0.0.1:5000\")\n",
    "\n",
    "logged_model = 'runs:/e39c5a8e549549988b6dd1546683c5b0/model'\n",
    "\n",
    "loaded_model = mlflow.tensorflow.load_model(logged_model)\n",
    "\n",
    "loaded_model.predict(test)"
   ]
  },
  {
   "cell_type": "code",
   "execution_count": null,
   "id": "1d2bedd6-e541-45ec-a247-44a720aba5d7",
   "metadata": {},
   "outputs": [],
   "source": []
  }
 ],
 "metadata": {
  "kernelspec": {
   "display_name": "Python 3 (ipykernel)",
   "language": "python",
   "name": "python3"
  },
  "language_info": {
   "codemirror_mode": {
    "name": "ipython",
    "version": 3
   },
   "file_extension": ".py",
   "mimetype": "text/x-python",
   "name": "python",
   "nbconvert_exporter": "python",
   "pygments_lexer": "ipython3",
   "version": "3.10.12"
  }
 },
 "nbformat": 4,
 "nbformat_minor": 5
}
