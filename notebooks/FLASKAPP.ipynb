{
 "cells": [
  {
   "cell_type": "code",
   "execution_count": null,
   "id": "5fdfe48c-0f98-49e8-8c3c-471890ab4b98",
   "metadata": {},
   "outputs": [
    {
     "name": "stderr",
     "output_type": "stream",
     "text": [
      "2024-06-03 19:33:05.331003: I tensorflow/core/platform/cpu_feature_guard.cc:210] This TensorFlow binary is optimized to use available CPU instructions in performance-critical operations.\n",
      "To enable the following instructions: AVX2 FMA, in other operations, rebuild TensorFlow with the appropriate compiler flags.\n",
      "2024-06-03 19:33:06.051389: W tensorflow/compiler/tf2tensorrt/utils/py_utils.cc:38] TF-TRT Warning: Could not find TensorRT\n"
     ]
    },
    {
     "name": "stdout",
     "output_type": "stream",
     "text": [
      " * Serving Flask app '__main__'\n",
      " * Debug mode: off\n"
     ]
    },
    {
     "name": "stderr",
     "output_type": "stream",
     "text": [
      "2024-06-03 19:33:08.831879: I external/local_xla/xla/stream_executor/cuda/cuda_executor.cc:984] could not open file to read NUMA node: /sys/bus/pci/devices/0000:07:00.0/numa_node\n",
      "Your kernel may have been built without NUMA support.\n",
      "2024-06-03 19:33:08.857106: W tensorflow/core/common_runtime/gpu/gpu_device.cc:2251] Cannot dlopen some GPU libraries. Please make sure the missing libraries mentioned above are installed properly if you would like to use GPU. Follow the guide at https://www.tensorflow.org/install/gpu for how to download and setup the required libraries for your platform.\n",
      "Skipping registering GPU devices...\n",
      "\u001b[31m\u001b[1mWARNING: This is a development server. Do not use it in a production deployment. Use a production WSGI server instead.\u001b[0m\n",
      " * Running on http://127.0.0.1:5001\n",
      "\u001b[33mPress CTRL+C to quit\u001b[0m\n"
     ]
    },
    {
     "name": "stdout",
     "output_type": "stream",
     "text": [
      "\u001b[1m1/1\u001b[0m \u001b[32m━━━━━━━━━━━━━━━━━━━━\u001b[0m\u001b[37m\u001b[0m \u001b[1m0s\u001b[0m 351ms/step\n"
     ]
    },
    {
     "name": "stderr",
     "output_type": "stream",
     "text": [
      "127.0.0.1 - - [03/Jun/2024 19:33:14] \"POST /predict HTTP/1.1\" 200 -\n",
      "INFO:werkzeug:127.0.0.1 - - [03/Jun/2024 19:33:14] \"POST /predict HTTP/1.1\" 200 -\n"
     ]
    },
    {
     "name": "stdout",
     "output_type": "stream",
     "text": [
      "Calculated Metrics - RMSE: 3.0843785182343133, MAE: 1.8937883934607878, R2: 0.6735994270515198, Data Drift Score: 3.886283004200362e-44, Data Drift Percentage: 100.0%\n",
      "\u001b[1m1/1\u001b[0m \u001b[32m━━━━━━━━━━━━━━━━━━━━\u001b[0m\u001b[37m\u001b[0m \u001b[1m0s\u001b[0m 191ms/step\n"
     ]
    },
    {
     "name": "stderr",
     "output_type": "stream",
     "text": [
      "127.0.0.1 - - [03/Jun/2024 19:34:15] \"POST /predict HTTP/1.1\" 200 -\n",
      "INFO:werkzeug:127.0.0.1 - - [03/Jun/2024 19:34:15] \"POST /predict HTTP/1.1\" 200 -\n"
     ]
    },
    {
     "name": "stdout",
     "output_type": "stream",
     "text": [
      "Calculated Metrics - RMSE: 1.939145107660281, MAE: 1.7618229792668272, R2: 0.3804812572217333, Data Drift Score: 1.196110880613097e-39, Data Drift Percentage: 100.0%\n",
      "\u001b[1m1/1\u001b[0m \u001b[32m━━━━━━━━━━━━━━━━━━━━\u001b[0m\u001b[37m\u001b[0m \u001b[1m0s\u001b[0m 191ms/step\n"
     ]
    },
    {
     "name": "stderr",
     "output_type": "stream",
     "text": [
      "127.0.0.1 - - [03/Jun/2024 19:35:15] \"POST /predict HTTP/1.1\" 200 -\n",
      "INFO:werkzeug:127.0.0.1 - - [03/Jun/2024 19:35:15] \"POST /predict HTTP/1.1\" 200 -\n"
     ]
    },
    {
     "name": "stdout",
     "output_type": "stream",
     "text": [
      "Calculated Metrics - RMSE: 1.852554438008851, MAE: 1.4522951008723335, R2: 0.754553348789445, Data Drift Score: 2.7707738033385967e-17, Data Drift Percentage: 100.0%\n",
      "\u001b[1m1/1\u001b[0m \u001b[32m━━━━━━━━━━━━━━━━━━━━\u001b[0m\u001b[37m\u001b[0m \u001b[1m0s\u001b[0m 305ms/step\n"
     ]
    },
    {
     "name": "stderr",
     "output_type": "stream",
     "text": [
      "127.0.0.1 - - [03/Jun/2024 19:36:16] \"POST /predict HTTP/1.1\" 200 -\n",
      "INFO:werkzeug:127.0.0.1 - - [03/Jun/2024 19:36:16] \"POST /predict HTTP/1.1\" 200 -\n"
     ]
    },
    {
     "name": "stdout",
     "output_type": "stream",
     "text": [
      "Calculated Metrics - RMSE: 0.5107421183457759, MAE: 0.44310633659362786, R2: -0.7227793821838013, Data Drift Score: 1.95839320573062e-06, Data Drift Percentage: 100.0%\n",
      "WARNING:tensorflow:5 out of the last 5 calls to <function TensorFlowTrainer.make_predict_function.<locals>.one_step_on_data_distributed at 0x7ff73014bbe0> triggered tf.function retracing. Tracing is expensive and the excessive number of tracings could be due to (1) creating @tf.function repeatedly in a loop, (2) passing tensors with different shapes, (3) passing Python objects instead of tensors. For (1), please define your @tf.function outside of the loop. For (2), @tf.function has reduce_retracing=True option that can avoid unnecessary retracing. For (3), please refer to https://www.tensorflow.org/guide/function#controlling_retracing and https://www.tensorflow.org/api_docs/python/tf/function for  more details.\n"
     ]
    },
    {
     "name": "stderr",
     "output_type": "stream",
     "text": [
      "WARNING:tensorflow:5 out of the last 5 calls to <function TensorFlowTrainer.make_predict_function.<locals>.one_step_on_data_distributed at 0x7ff73014bbe0> triggered tf.function retracing. Tracing is expensive and the excessive number of tracings could be due to (1) creating @tf.function repeatedly in a loop, (2) passing tensors with different shapes, (3) passing Python objects instead of tensors. For (1), please define your @tf.function outside of the loop. For (2), @tf.function has reduce_retracing=True option that can avoid unnecessary retracing. For (3), please refer to https://www.tensorflow.org/guide/function#controlling_retracing and https://www.tensorflow.org/api_docs/python/tf/function for  more details.\n"
     ]
    },
    {
     "name": "stdout",
     "output_type": "stream",
     "text": [
      "\u001b[1m1/1\u001b[0m \u001b[32m━━━━━━━━━━━━━━━━━━━━\u001b[0m\u001b[37m\u001b[0m \u001b[1m0s\u001b[0m 237ms/step\n"
     ]
    },
    {
     "name": "stderr",
     "output_type": "stream",
     "text": [
      "127.0.0.1 - - [03/Jun/2024 19:37:16] \"POST /predict HTTP/1.1\" 200 -\n",
      "INFO:werkzeug:127.0.0.1 - - [03/Jun/2024 19:37:16] \"POST /predict HTTP/1.1\" 200 -\n"
     ]
    },
    {
     "name": "stdout",
     "output_type": "stream",
     "text": [
      "Calculated Metrics - RMSE: 0.742259131750487, MAE: 0.6304654781634993, R2: 0.4245145904016413, Data Drift Score: 2.1986461692881874e-11, Data Drift Percentage: 100.0%\n",
      "WARNING:tensorflow:6 out of the last 6 calls to <function TensorFlowTrainer.make_predict_function.<locals>.one_step_on_data_distributed at 0x7ff6f031c4c0> triggered tf.function retracing. Tracing is expensive and the excessive number of tracings could be due to (1) creating @tf.function repeatedly in a loop, (2) passing tensors with different shapes, (3) passing Python objects instead of tensors. For (1), please define your @tf.function outside of the loop. For (2), @tf.function has reduce_retracing=True option that can avoid unnecessary retracing. For (3), please refer to https://www.tensorflow.org/guide/function#controlling_retracing and https://www.tensorflow.org/api_docs/python/tf/function for  more details.\n"
     ]
    },
    {
     "name": "stderr",
     "output_type": "stream",
     "text": [
      "WARNING:tensorflow:6 out of the last 6 calls to <function TensorFlowTrainer.make_predict_function.<locals>.one_step_on_data_distributed at 0x7ff6f031c4c0> triggered tf.function retracing. Tracing is expensive and the excessive number of tracings could be due to (1) creating @tf.function repeatedly in a loop, (2) passing tensors with different shapes, (3) passing Python objects instead of tensors. For (1), please define your @tf.function outside of the loop. For (2), @tf.function has reduce_retracing=True option that can avoid unnecessary retracing. For (3), please refer to https://www.tensorflow.org/guide/function#controlling_retracing and https://www.tensorflow.org/api_docs/python/tf/function for  more details.\n"
     ]
    },
    {
     "name": "stdout",
     "output_type": "stream",
     "text": [
      "\u001b[1m1/1\u001b[0m \u001b[32m━━━━━━━━━━━━━━━━━━━━\u001b[0m\u001b[37m\u001b[0m \u001b[1m0s\u001b[0m 268ms/step\n"
     ]
    },
    {
     "name": "stderr",
     "output_type": "stream",
     "text": [
      "127.0.0.1 - - [03/Jun/2024 19:38:17] \"POST /predict HTTP/1.1\" 200 -\n",
      "INFO:werkzeug:127.0.0.1 - - [03/Jun/2024 19:38:17] \"POST /predict HTTP/1.1\" 200 -\n"
     ]
    },
    {
     "name": "stdout",
     "output_type": "stream",
     "text": [
      "Calculated Metrics - RMSE: 0.5117478306611293, MAE: 0.45262874412536613, R2: 0.203209719643746, Data Drift Score: 8.493725898889804e-14, Data Drift Percentage: 100.0%\n",
      "\u001b[1m1/1\u001b[0m \u001b[32m━━━━━━━━━━━━━━━━━━━━\u001b[0m\u001b[37m\u001b[0m \u001b[1m0s\u001b[0m 259ms/step\n"
     ]
    },
    {
     "name": "stderr",
     "output_type": "stream",
     "text": [
      "127.0.0.1 - - [03/Jun/2024 19:39:17] \"POST /predict HTTP/1.1\" 200 -\n",
      "INFO:werkzeug:127.0.0.1 - - [03/Jun/2024 19:39:17] \"POST /predict HTTP/1.1\" 200 -\n"
     ]
    },
    {
     "name": "stdout",
     "output_type": "stream",
     "text": [
      "Calculated Metrics - RMSE: 0.45440271439784113, MAE: 0.35087807791573666, R2: 0.40085691097459664, Data Drift Score: 6.619533263456036e-39, Data Drift Percentage: 100.0%\n",
      "\u001b[1m1/1\u001b[0m \u001b[32m━━━━━━━━━━━━━━━━━━━━\u001b[0m\u001b[37m\u001b[0m \u001b[1m0s\u001b[0m 252ms/step\n"
     ]
    },
    {
     "name": "stderr",
     "output_type": "stream",
     "text": [
      "127.0.0.1 - - [03/Jun/2024 19:40:18] \"POST /predict HTTP/1.1\" 200 -\n",
      "INFO:werkzeug:127.0.0.1 - - [03/Jun/2024 19:40:18] \"POST /predict HTTP/1.1\" 200 -\n"
     ]
    },
    {
     "name": "stdout",
     "output_type": "stream",
     "text": [
      "Calculated Metrics - RMSE: 0.6018056467916408, MAE: 0.5196868584372776, R2: -0.7406764652181839, Data Drift Score: 9.998341621437911e-15, Data Drift Percentage: 100.0%\n",
      "\u001b[1m1/1\u001b[0m \u001b[32m━━━━━━━━━━━━━━━━━━━━\u001b[0m\u001b[37m\u001b[0m \u001b[1m0s\u001b[0m 253ms/step\n"
     ]
    },
    {
     "name": "stderr",
     "output_type": "stream",
     "text": [
      "127.0.0.1 - - [03/Jun/2024 19:41:18] \"POST /predict HTTP/1.1\" 200 -\n",
      "INFO:werkzeug:127.0.0.1 - - [03/Jun/2024 19:41:18] \"POST /predict HTTP/1.1\" 200 -\n"
     ]
    },
    {
     "name": "stdout",
     "output_type": "stream",
     "text": [
      "Calculated Metrics - RMSE: 0.7909170215122615, MAE: 0.5550668309529624, R2: 0.35065119861210625, Data Drift Score: 1.0668582477537149e-07, Data Drift Percentage: 100.0%\n",
      "\u001b[1m1/1\u001b[0m \u001b[32m━━━━━━━━━━━━━━━━━━━━\u001b[0m\u001b[37m\u001b[0m \u001b[1m0s\u001b[0m 270ms/step\n"
     ]
    },
    {
     "name": "stderr",
     "output_type": "stream",
     "text": [
      "127.0.0.1 - - [03/Jun/2024 19:42:19] \"POST /predict HTTP/1.1\" 200 -\n",
      "INFO:werkzeug:127.0.0.1 - - [03/Jun/2024 19:42:19] \"POST /predict HTTP/1.1\" 200 -\n"
     ]
    },
    {
     "name": "stdout",
     "output_type": "stream",
     "text": [
      "Calculated Metrics - RMSE: 0.6619876075962549, MAE: 0.460914144515991, R2: -0.2284387031313284, Data Drift Score: 5.031191726349974e-11, Data Drift Percentage: 100.0%\n",
      "\u001b[1m1/1\u001b[0m \u001b[32m━━━━━━━━━━━━━━━━━━━━\u001b[0m\u001b[37m\u001b[0m \u001b[1m0s\u001b[0m 329ms/step\n"
     ]
    },
    {
     "name": "stderr",
     "output_type": "stream",
     "text": [
      "127.0.0.1 - - [03/Jun/2024 19:43:20] \"POST /predict HTTP/1.1\" 200 -\n",
      "INFO:werkzeug:127.0.0.1 - - [03/Jun/2024 19:43:20] \"POST /predict HTTP/1.1\" 200 -\n"
     ]
    },
    {
     "name": "stdout",
     "output_type": "stream",
     "text": [
      "Calculated Metrics - RMSE: 0.6531927106744191, MAE: 0.5033952930995395, R2: 0.6672681311959323, Data Drift Score: 1.7886583714051529e-12, Data Drift Percentage: 100.0%\n",
      "\u001b[1m1/1\u001b[0m \u001b[32m━━━━━━━━━━━━━━━━━━━━\u001b[0m\u001b[37m\u001b[0m \u001b[1m0s\u001b[0m 376ms/step\n"
     ]
    },
    {
     "name": "stderr",
     "output_type": "stream",
     "text": [
      "127.0.0.1 - - [03/Jun/2024 19:44:21] \"POST /predict HTTP/1.1\" 200 -\n",
      "INFO:werkzeug:127.0.0.1 - - [03/Jun/2024 19:44:21] \"POST /predict HTTP/1.1\" 200 -\n"
     ]
    },
    {
     "name": "stdout",
     "output_type": "stream",
     "text": [
      "Calculated Metrics - RMSE: 0.8916355777030731, MAE: 0.7172151374816899, R2: -0.013621103748495234, Data Drift Score: 1.0698358225863585e-20, Data Drift Percentage: 100.0%\n",
      "\u001b[1m1/1\u001b[0m \u001b[32m━━━━━━━━━━━━━━━━━━━━\u001b[0m\u001b[37m\u001b[0m \u001b[1m0s\u001b[0m 258ms/step\n"
     ]
    },
    {
     "name": "stderr",
     "output_type": "stream",
     "text": [
      "127.0.0.1 - - [03/Jun/2024 19:45:21] \"POST /predict HTTP/1.1\" 200 -\n",
      "INFO:werkzeug:127.0.0.1 - - [03/Jun/2024 19:45:21] \"POST /predict HTTP/1.1\" 200 -\n"
     ]
    },
    {
     "name": "stdout",
     "output_type": "stream",
     "text": [
      "Calculated Metrics - RMSE: 0.8341885859211369, MAE: 0.5956344822474874, R2: -0.9441023230866108, Data Drift Score: 1.5888872323239252e-34, Data Drift Percentage: 100.0%\n",
      "\u001b[1m1/1\u001b[0m \u001b[32m━━━━━━━━━━━━━━━━━━━━\u001b[0m\u001b[37m\u001b[0m \u001b[1m0s\u001b[0m 255ms/step\n"
     ]
    },
    {
     "name": "stderr",
     "output_type": "stream",
     "text": [
      "127.0.0.1 - - [03/Jun/2024 19:46:22] \"POST /predict HTTP/1.1\" 200 -\n",
      "INFO:werkzeug:127.0.0.1 - - [03/Jun/2024 19:46:22] \"POST /predict HTTP/1.1\" 200 -\n"
     ]
    },
    {
     "name": "stdout",
     "output_type": "stream",
     "text": [
      "Calculated Metrics - RMSE: 1.188520597530707, MAE: 0.9111517028808597, R2: 0.5362704515573289, Data Drift Score: 3.1132376767065396e-46, Data Drift Percentage: 100.0%\n",
      "\u001b[1m1/1\u001b[0m \u001b[32m━━━━━━━━━━━━━━━━━━━━\u001b[0m\u001b[37m\u001b[0m \u001b[1m0s\u001b[0m 262ms/step\n"
     ]
    },
    {
     "name": "stderr",
     "output_type": "stream",
     "text": [
      "127.0.0.1 - - [03/Jun/2024 19:47:22] \"POST /predict HTTP/1.1\" 200 -\n",
      "INFO:werkzeug:127.0.0.1 - - [03/Jun/2024 19:47:22] \"POST /predict HTTP/1.1\" 200 -\n"
     ]
    },
    {
     "name": "stdout",
     "output_type": "stream",
     "text": [
      "Calculated Metrics - RMSE: 1.3943578787936104, MAE: 1.1908993966238823, R2: 0.5236634104371996, Data Drift Score: 1.0792610459494028e-64, Data Drift Percentage: 100.0%\n",
      "\u001b[1m1/1\u001b[0m \u001b[32m━━━━━━━━━━━━━━━━━━━━\u001b[0m\u001b[37m\u001b[0m \u001b[1m0s\u001b[0m 250ms/step\n"
     ]
    },
    {
     "name": "stderr",
     "output_type": "stream",
     "text": [
      "127.0.0.1 - - [03/Jun/2024 19:48:23] \"POST /predict HTTP/1.1\" 200 -\n",
      "INFO:werkzeug:127.0.0.1 - - [03/Jun/2024 19:48:23] \"POST /predict HTTP/1.1\" 200 -\n"
     ]
    },
    {
     "name": "stdout",
     "output_type": "stream",
     "text": [
      "Calculated Metrics - RMSE: 0.957602089569975, MAE: 0.8534813279371993, R2: 0.25443424531249736, Data Drift Score: 8.34984855327507e-54, Data Drift Percentage: 100.0%\n",
      "\u001b[1m1/1\u001b[0m \u001b[32m━━━━━━━━━━━━━━━━━━━━\u001b[0m\u001b[37m\u001b[0m \u001b[1m0s\u001b[0m 245ms/step\n"
     ]
    },
    {
     "name": "stderr",
     "output_type": "stream",
     "text": [
      "127.0.0.1 - - [03/Jun/2024 19:49:23] \"POST /predict HTTP/1.1\" 200 -\n",
      "INFO:werkzeug:127.0.0.1 - - [03/Jun/2024 19:49:23] \"POST /predict HTTP/1.1\" 200 -\n"
     ]
    },
    {
     "name": "stdout",
     "output_type": "stream",
     "text": [
      "Calculated Metrics - RMSE: 0.878728441494742, MAE: 0.6369770695613004, R2: 0.7102532872630873, Data Drift Score: 1.179198606466283e-55, Data Drift Percentage: 100.0%\n",
      "\u001b[1m1/1\u001b[0m \u001b[32m━━━━━━━━━━━━━━━━━━━━\u001b[0m\u001b[37m\u001b[0m \u001b[1m0s\u001b[0m 261ms/step\n"
     ]
    },
    {
     "name": "stderr",
     "output_type": "stream",
     "text": [
      "127.0.0.1 - - [03/Jun/2024 19:50:24] \"POST /predict HTTP/1.1\" 200 -\n",
      "INFO:werkzeug:127.0.0.1 - - [03/Jun/2024 19:50:24] \"POST /predict HTTP/1.1\" 200 -\n"
     ]
    },
    {
     "name": "stdout",
     "output_type": "stream",
     "text": [
      "Calculated Metrics - RMSE: 0.9596575918938788, MAE: 0.8094186299641929, R2: 0.4715465183328439, Data Drift Score: 7.735551620509203e-47, Data Drift Percentage: 100.0%\n",
      "\u001b[1m1/1\u001b[0m \u001b[32m━━━━━━━━━━━━━━━━━━━━\u001b[0m\u001b[37m\u001b[0m \u001b[1m0s\u001b[0m 230ms/step\n"
     ]
    },
    {
     "name": "stderr",
     "output_type": "stream",
     "text": [
      "127.0.0.1 - - [03/Jun/2024 19:51:24] \"POST /predict HTTP/1.1\" 200 -\n",
      "INFO:werkzeug:127.0.0.1 - - [03/Jun/2024 19:51:24] \"POST /predict HTTP/1.1\" 200 -\n"
     ]
    },
    {
     "name": "stdout",
     "output_type": "stream",
     "text": [
      "Calculated Metrics - RMSE: 1.2864321272392847, MAE: 0.7463242449079236, R2: 0.705513123204393, Data Drift Score: 8.525878336805756e-45, Data Drift Percentage: 100.0%\n",
      "\u001b[1m1/1\u001b[0m \u001b[32m━━━━━━━━━━━━━━━━━━━━\u001b[0m\u001b[37m\u001b[0m \u001b[1m0s\u001b[0m 243ms/step\n"
     ]
    },
    {
     "name": "stderr",
     "output_type": "stream",
     "text": [
      "127.0.0.1 - - [03/Jun/2024 19:52:25] \"POST /predict HTTP/1.1\" 200 -\n",
      "INFO:werkzeug:127.0.0.1 - - [03/Jun/2024 19:52:25] \"POST /predict HTTP/1.1\" 200 -\n"
     ]
    },
    {
     "name": "stdout",
     "output_type": "stream",
     "text": [
      "Calculated Metrics - RMSE: 0.5053197254401527, MAE: 0.38633834838867226, R2: -0.017562108959973566, Data Drift Score: 7.399042144340838e-43, Data Drift Percentage: 100.0%\n",
      "\u001b[1m1/1\u001b[0m \u001b[32m━━━━━━━━━━━━━━━━━━━━\u001b[0m\u001b[37m\u001b[0m \u001b[1m0s\u001b[0m 247ms/step\n"
     ]
    },
    {
     "name": "stderr",
     "output_type": "stream",
     "text": [
      "127.0.0.1 - - [03/Jun/2024 19:53:25] \"POST /predict HTTP/1.1\" 200 -\n",
      "INFO:werkzeug:127.0.0.1 - - [03/Jun/2024 19:53:25] \"POST /predict HTTP/1.1\" 200 -\n"
     ]
    },
    {
     "name": "stdout",
     "output_type": "stream",
     "text": [
      "Calculated Metrics - RMSE: 0.48876208883671984, MAE: 0.41672639973958353, R2: 0.5986676080844011, Data Drift Score: 8.544183974040446e-43, Data Drift Percentage: 100.0%\n",
      "\u001b[1m1/1\u001b[0m \u001b[32m━━━━━━━━━━━━━━━━━━━━\u001b[0m\u001b[37m\u001b[0m \u001b[1m1s\u001b[0m 756ms/step\n"
     ]
    },
    {
     "name": "stderr",
     "output_type": "stream",
     "text": [
      "127.0.0.1 - - [03/Jun/2024 19:54:26] \"POST /predict HTTP/1.1\" 200 -\n",
      "INFO:werkzeug:127.0.0.1 - - [03/Jun/2024 19:54:26] \"POST /predict HTTP/1.1\" 200 -\n"
     ]
    },
    {
     "name": "stdout",
     "output_type": "stream",
     "text": [
      "Calculated Metrics - RMSE: 0.7264234693486701, MAE: 0.5828244563511434, R2: 0.3524991524195048, Data Drift Score: 3.204882514673339e-44, Data Drift Percentage: 100.0%\n",
      "\u001b[1m1/1\u001b[0m \u001b[32m━━━━━━━━━━━━━━━━━━━━\u001b[0m\u001b[37m\u001b[0m \u001b[1m0s\u001b[0m 305ms/step\n"
     ]
    },
    {
     "name": "stderr",
     "output_type": "stream",
     "text": [
      "127.0.0.1 - - [03/Jun/2024 19:55:27] \"POST /predict HTTP/1.1\" 200 -\n",
      "INFO:werkzeug:127.0.0.1 - - [03/Jun/2024 19:55:27] \"POST /predict HTTP/1.1\" 200 -\n"
     ]
    },
    {
     "name": "stdout",
     "output_type": "stream",
     "text": [
      "Calculated Metrics - RMSE: 0.43823639784212465, MAE: 0.310218705397386, R2: 0.28704952231056236, Data Drift Score: 2.6916969267822003e-53, Data Drift Percentage: 100.0%\n",
      "\u001b[1m1/1\u001b[0m \u001b[32m━━━━━━━━━━━━━━━━━━━━\u001b[0m\u001b[37m\u001b[0m \u001b[1m0s\u001b[0m 258ms/step\n"
     ]
    },
    {
     "name": "stderr",
     "output_type": "stream",
     "text": [
      "127.0.0.1 - - [03/Jun/2024 19:56:28] \"POST /predict HTTP/1.1\" 200 -\n",
      "INFO:werkzeug:127.0.0.1 - - [03/Jun/2024 19:56:28] \"POST /predict HTTP/1.1\" 200 -\n"
     ]
    },
    {
     "name": "stdout",
     "output_type": "stream",
     "text": [
      "Calculated Metrics - RMSE: 0.48024878175154706, MAE: 0.4066943740844735, R2: 0.12561341588298036, Data Drift Score: 6.067504466358853e-45, Data Drift Percentage: 100.0%\n",
      "\u001b[1m1/1\u001b[0m \u001b[32m━━━━━━━━━━━━━━━━━━━━\u001b[0m\u001b[37m\u001b[0m \u001b[1m0s\u001b[0m 265ms/step\n"
     ]
    },
    {
     "name": "stderr",
     "output_type": "stream",
     "text": [
      "127.0.0.1 - - [03/Jun/2024 19:57:28] \"POST /predict HTTP/1.1\" 200 -\n",
      "INFO:werkzeug:127.0.0.1 - - [03/Jun/2024 19:57:28] \"POST /predict HTTP/1.1\" 200 -\n"
     ]
    },
    {
     "name": "stdout",
     "output_type": "stream",
     "text": [
      "Calculated Metrics - RMSE: 0.6378678986412601, MAE: 0.42644140390249474, R2: 0.776424030275619, Data Drift Score: 4.296691690373618e-42, Data Drift Percentage: 100.0%\n",
      "\u001b[1m1/1\u001b[0m \u001b[32m━━━━━━━━━━━━━━━━━━━━\u001b[0m\u001b[37m\u001b[0m \u001b[1m0s\u001b[0m 240ms/step\n"
     ]
    },
    {
     "name": "stderr",
     "output_type": "stream",
     "text": [
      "127.0.0.1 - - [03/Jun/2024 19:58:29] \"POST /predict HTTP/1.1\" 200 -\n",
      "INFO:werkzeug:127.0.0.1 - - [03/Jun/2024 19:58:29] \"POST /predict HTTP/1.1\" 200 -\n"
     ]
    },
    {
     "name": "stdout",
     "output_type": "stream",
     "text": [
      "Calculated Metrics - RMSE: 0.759315228393152, MAE: 0.5792140667255112, R2: -0.6919062894512489, Data Drift Score: 1.6906229152006457e-35, Data Drift Percentage: 100.0%\n",
      "\u001b[1m1/1\u001b[0m \u001b[32m━━━━━━━━━━━━━━━━━━━━\u001b[0m\u001b[37m\u001b[0m \u001b[1m0s\u001b[0m 253ms/step\n"
     ]
    },
    {
     "name": "stderr",
     "output_type": "stream",
     "text": [
      "127.0.0.1 - - [03/Jun/2024 19:59:29] \"POST /predict HTTP/1.1\" 200 -\n",
      "INFO:werkzeug:127.0.0.1 - - [03/Jun/2024 19:59:29] \"POST /predict HTTP/1.1\" 200 -\n"
     ]
    },
    {
     "name": "stdout",
     "output_type": "stream",
     "text": [
      "Calculated Metrics - RMSE: 0.6313884845842469, MAE: 0.4614921569824222, R2: 0.12911399474815133, Data Drift Score: 1.4823345304731713e-41, Data Drift Percentage: 100.0%\n",
      "\u001b[1m1/1\u001b[0m \u001b[32m━━━━━━━━━━━━━━━━━━━━\u001b[0m\u001b[37m\u001b[0m \u001b[1m0s\u001b[0m 256ms/step\n"
     ]
    },
    {
     "name": "stderr",
     "output_type": "stream",
     "text": [
      "127.0.0.1 - - [03/Jun/2024 20:00:30] \"POST /predict HTTP/1.1\" 200 -\n",
      "INFO:werkzeug:127.0.0.1 - - [03/Jun/2024 20:00:30] \"POST /predict HTTP/1.1\" 200 -\n"
     ]
    },
    {
     "name": "stdout",
     "output_type": "stream",
     "text": [
      "Calculated Metrics - RMSE: 0.48283500695377946, MAE: 0.3921300575949932, R2: 0.4705815256680085, Data Drift Score: 2.9537774519849385e-46, Data Drift Percentage: 100.0%\n",
      "\u001b[1m1/1\u001b[0m \u001b[32m━━━━━━━━━━━━━━━━━━━━\u001b[0m\u001b[37m\u001b[0m \u001b[1m0s\u001b[0m 250ms/step\n"
     ]
    },
    {
     "name": "stderr",
     "output_type": "stream",
     "text": [
      "127.0.0.1 - - [03/Jun/2024 20:01:30] \"POST /predict HTTP/1.1\" 200 -\n",
      "INFO:werkzeug:127.0.0.1 - - [03/Jun/2024 20:01:30] \"POST /predict HTTP/1.1\" 200 -\n"
     ]
    },
    {
     "name": "stdout",
     "output_type": "stream",
     "text": [
      "Calculated Metrics - RMSE: 1.1432586969187755, MAE: 0.88982426570012, R2: 0.4841254771869974, Data Drift Score: 8.34984855327507e-54, Data Drift Percentage: 100.0%\n",
      "\u001b[1m1/1\u001b[0m \u001b[32m━━━━━━━━━━━━━━━━━━━━\u001b[0m\u001b[37m\u001b[0m \u001b[1m0s\u001b[0m 267ms/step\n"
     ]
    },
    {
     "name": "stderr",
     "output_type": "stream",
     "text": [
      "127.0.0.1 - - [03/Jun/2024 20:02:31] \"POST /predict HTTP/1.1\" 200 -\n",
      "INFO:werkzeug:127.0.0.1 - - [03/Jun/2024 20:02:31] \"POST /predict HTTP/1.1\" 200 -\n"
     ]
    },
    {
     "name": "stdout",
     "output_type": "stream",
     "text": [
      "Calculated Metrics - RMSE: 1.421673024154113, MAE: 1.2631452723911838, R2: 0.7359364780548754, Data Drift Score: 1.9969619568516154e-96, Data Drift Percentage: 100.0%\n",
      "\u001b[1m1/1\u001b[0m \u001b[32m━━━━━━━━━━━━━━━━━━━━\u001b[0m\u001b[37m\u001b[0m \u001b[1m0s\u001b[0m 259ms/step\n"
     ]
    },
    {
     "name": "stderr",
     "output_type": "stream",
     "text": [
      "127.0.0.1 - - [03/Jun/2024 20:03:32] \"POST /predict HTTP/1.1\" 200 -\n",
      "INFO:werkzeug:127.0.0.1 - - [03/Jun/2024 20:03:32] \"POST /predict HTTP/1.1\" 200 -\n"
     ]
    },
    {
     "name": "stdout",
     "output_type": "stream",
     "text": [
      "Calculated Metrics - RMSE: 1.6740751074789333, MAE: 1.3510484095982156, R2: 0.5458295689559802, Data Drift Score: 1.9969619568516154e-96, Data Drift Percentage: 100.0%\n",
      "\u001b[1m1/1\u001b[0m \u001b[32m━━━━━━━━━━━━━━━━━━━━\u001b[0m\u001b[37m\u001b[0m \u001b[1m0s\u001b[0m 263ms/step\n"
     ]
    },
    {
     "name": "stderr",
     "output_type": "stream",
     "text": [
      "127.0.0.1 - - [03/Jun/2024 20:04:32] \"POST /predict HTTP/1.1\" 200 -\n",
      "INFO:werkzeug:127.0.0.1 - - [03/Jun/2024 20:04:32] \"POST /predict HTTP/1.1\" 200 -\n"
     ]
    },
    {
     "name": "stdout",
     "output_type": "stream",
     "text": [
      "Calculated Metrics - RMSE: 2.3367739829655987, MAE: 2.116426722208658, R2: 0.3244064377487965, Data Drift Score: 3.5188944214734907e-85, Data Drift Percentage: 100.0%\n",
      "\u001b[1m1/1\u001b[0m \u001b[32m━━━━━━━━━━━━━━━━━━━━\u001b[0m\u001b[37m\u001b[0m \u001b[1m0s\u001b[0m 240ms/step\n"
     ]
    },
    {
     "name": "stderr",
     "output_type": "stream",
     "text": [
      "127.0.0.1 - - [03/Jun/2024 20:05:33] \"POST /predict HTTP/1.1\" 200 -\n",
      "INFO:werkzeug:127.0.0.1 - - [03/Jun/2024 20:05:33] \"POST /predict HTTP/1.1\" 200 -\n"
     ]
    },
    {
     "name": "stdout",
     "output_type": "stream",
     "text": [
      "Calculated Metrics - RMSE: 2.075646609838112, MAE: 1.7270256551106768, R2: 0.5474836042791824, Data Drift Score: 1.5965870503733696e-97, Data Drift Percentage: 100.0%\n",
      "\u001b[1m1/1\u001b[0m \u001b[32m━━━━━━━━━━━━━━━━━━━━\u001b[0m\u001b[37m\u001b[0m \u001b[1m0s\u001b[0m 260ms/step\n"
     ]
    },
    {
     "name": "stderr",
     "output_type": "stream",
     "text": [
      "127.0.0.1 - - [03/Jun/2024 20:06:33] \"POST /predict HTTP/1.1\" 200 -\n",
      "INFO:werkzeug:127.0.0.1 - - [03/Jun/2024 20:06:33] \"POST /predict HTTP/1.1\" 200 -\n"
     ]
    },
    {
     "name": "stdout",
     "output_type": "stream",
     "text": [
      "Calculated Metrics - RMSE: 3.5110943535406642, MAE: 2.949238138834635, R2: 0.33499241289222104, Data Drift Score: 1.0537474532464249e-95, Data Drift Percentage: 100.0%\n",
      "\u001b[1m1/1\u001b[0m \u001b[32m━━━━━━━━━━━━━━━━━━━━\u001b[0m\u001b[37m\u001b[0m \u001b[1m0s\u001b[0m 254ms/step\n"
     ]
    },
    {
     "name": "stderr",
     "output_type": "stream",
     "text": [
      "127.0.0.1 - - [03/Jun/2024 20:07:34] \"POST /predict HTTP/1.1\" 200 -\n",
      "INFO:werkzeug:127.0.0.1 - - [03/Jun/2024 20:07:34] \"POST /predict HTTP/1.1\" 200 -\n"
     ]
    },
    {
     "name": "stdout",
     "output_type": "stream",
     "text": [
      "Calculated Metrics - RMSE: 1.7808621988066715, MAE: 1.6154309626988, R2: -0.38427504120514167, Data Drift Score: 3.566922561157669e-46, Data Drift Percentage: 100.0%\n",
      "\u001b[1m1/1\u001b[0m \u001b[32m━━━━━━━━━━━━━━━━━━━━\u001b[0m\u001b[37m\u001b[0m \u001b[1m0s\u001b[0m 244ms/step\n"
     ]
    },
    {
     "name": "stderr",
     "output_type": "stream",
     "text": [
      "127.0.0.1 - - [03/Jun/2024 20:08:34] \"POST /predict HTTP/1.1\" 200 -\n",
      "INFO:werkzeug:127.0.0.1 - - [03/Jun/2024 20:08:34] \"POST /predict HTTP/1.1\" 200 -\n"
     ]
    },
    {
     "name": "stdout",
     "output_type": "stream",
     "text": [
      "Calculated Metrics - RMSE: 1.993216905495472, MAE: 1.5815698750813791, R2: -0.1835135527172329, Data Drift Score: 4.475956833948706e-64, Data Drift Percentage: 100.0%\n",
      "\u001b[1m1/1\u001b[0m \u001b[32m━━━━━━━━━━━━━━━━━━━━\u001b[0m\u001b[37m\u001b[0m \u001b[1m0s\u001b[0m 242ms/step\n"
     ]
    },
    {
     "name": "stderr",
     "output_type": "stream",
     "text": [
      "127.0.0.1 - - [03/Jun/2024 20:09:35] \"POST /predict HTTP/1.1\" 200 -\n",
      "INFO:werkzeug:127.0.0.1 - - [03/Jun/2024 20:09:35] \"POST /predict HTTP/1.1\" 200 -\n"
     ]
    },
    {
     "name": "stdout",
     "output_type": "stream",
     "text": [
      "Calculated Metrics - RMSE: 1.6078134044127377, MAE: 1.3142798505510618, R2: 0.38406384188459575, Data Drift Score: 1.9969619568516154e-96, Data Drift Percentage: 100.0%\n",
      "\u001b[1m1/1\u001b[0m \u001b[32m━━━━━━━━━━━━━━━━━━━━\u001b[0m\u001b[37m\u001b[0m \u001b[1m0s\u001b[0m 258ms/step\n"
     ]
    },
    {
     "name": "stderr",
     "output_type": "stream",
     "text": [
      "127.0.0.1 - - [03/Jun/2024 20:10:36] \"POST /predict HTTP/1.1\" 200 -\n",
      "INFO:werkzeug:127.0.0.1 - - [03/Jun/2024 20:10:36] \"POST /predict HTTP/1.1\" 200 -\n"
     ]
    },
    {
     "name": "stdout",
     "output_type": "stream",
     "text": [
      "Calculated Metrics - RMSE: 1.7231645063492627, MAE: 1.299261739095051, R2: 0.7083964373168716, Data Drift Score: 1.5965870503733696e-97, Data Drift Percentage: 100.0%\n",
      "\u001b[1m1/1\u001b[0m \u001b[32m━━━━━━━━━━━━━━━━━━━━\u001b[0m\u001b[37m\u001b[0m \u001b[1m0s\u001b[0m 243ms/step\n"
     ]
    },
    {
     "name": "stderr",
     "output_type": "stream",
     "text": [
      "127.0.0.1 - - [03/Jun/2024 20:11:36] \"POST /predict HTTP/1.1\" 200 -\n",
      "INFO:werkzeug:127.0.0.1 - - [03/Jun/2024 20:11:36] \"POST /predict HTTP/1.1\" 200 -\n"
     ]
    },
    {
     "name": "stdout",
     "output_type": "stream",
     "text": [
      "Calculated Metrics - RMSE: 2.5924681556744993, MAE: 2.0314663914271796, R2: 0.6097733601166253, Data Drift Score: 1.9969619568516154e-96, Data Drift Percentage: 100.0%\n",
      "\u001b[1m1/1\u001b[0m \u001b[32m━━━━━━━━━━━━━━━━━━━━\u001b[0m\u001b[37m\u001b[0m \u001b[1m0s\u001b[0m 237ms/step\n"
     ]
    },
    {
     "name": "stderr",
     "output_type": "stream",
     "text": [
      "127.0.0.1 - - [03/Jun/2024 20:12:37] \"POST /predict HTTP/1.1\" 200 -\n",
      "INFO:werkzeug:127.0.0.1 - - [03/Jun/2024 20:12:37] \"POST /predict HTTP/1.1\" 200 -\n"
     ]
    },
    {
     "name": "stdout",
     "output_type": "stream",
     "text": [
      "Calculated Metrics - RMSE: 2.3521794791945734, MAE: 1.7012190755208323, R2: 0.22202048081880077, Data Drift Score: 3.2615658516106344e-94, Data Drift Percentage: 100.0%\n",
      "\u001b[1m1/1\u001b[0m \u001b[32m━━━━━━━━━━━━━━━━━━━━\u001b[0m\u001b[37m\u001b[0m \u001b[1m0s\u001b[0m 248ms/step\n"
     ]
    },
    {
     "name": "stderr",
     "output_type": "stream",
     "text": [
      "127.0.0.1 - - [03/Jun/2024 20:13:37] \"POST /predict HTTP/1.1\" 200 -\n",
      "INFO:werkzeug:127.0.0.1 - - [03/Jun/2024 20:13:37] \"POST /predict HTTP/1.1\" 200 -\n"
     ]
    },
    {
     "name": "stdout",
     "output_type": "stream",
     "text": [
      "Calculated Metrics - RMSE: 3.012663470539961, MAE: 2.275591997419087, R2: 0.7316250508337734, Data Drift Score: 1.9969619568516154e-96, Data Drift Percentage: 100.0%\n",
      "\u001b[1m1/1\u001b[0m \u001b[32m━━━━━━━━━━━━━━━━━━━━\u001b[0m\u001b[37m\u001b[0m \u001b[1m0s\u001b[0m 255ms/step\n"
     ]
    },
    {
     "name": "stderr",
     "output_type": "stream",
     "text": [
      "127.0.0.1 - - [03/Jun/2024 20:14:38] \"POST /predict HTTP/1.1\" 200 -\n",
      "INFO:werkzeug:127.0.0.1 - - [03/Jun/2024 20:14:38] \"POST /predict HTTP/1.1\" 200 -\n"
     ]
    },
    {
     "name": "stdout",
     "output_type": "stream",
     "text": [
      "Calculated Metrics - RMSE: 2.415120246425627, MAE: 1.8446283365885412, R2: 0.8303479798057484, Data Drift Score: 1.5965870503733696e-97, Data Drift Percentage: 100.0%\n",
      "\u001b[1m1/1\u001b[0m \u001b[32m━━━━━━━━━━━━━━━━━━━━\u001b[0m\u001b[37m\u001b[0m \u001b[1m0s\u001b[0m 269ms/step\n"
     ]
    },
    {
     "name": "stderr",
     "output_type": "stream",
     "text": [
      "127.0.0.1 - - [03/Jun/2024 20:15:38] \"POST /predict HTTP/1.1\" 200 -\n",
      "INFO:werkzeug:127.0.0.1 - - [03/Jun/2024 20:15:38] \"POST /predict HTTP/1.1\" 200 -\n"
     ]
    },
    {
     "name": "stdout",
     "output_type": "stream",
     "text": [
      "Calculated Metrics - RMSE: 2.0422835634500474, MAE: 1.6631295776367179, R2: 0.7101949214449952, Data Drift Score: 1.9969619568516154e-96, Data Drift Percentage: 100.0%\n",
      "\u001b[1m1/1\u001b[0m \u001b[32m━━━━━━━━━━━━━━━━━━━━\u001b[0m\u001b[37m\u001b[0m \u001b[1m1s\u001b[0m 617ms/step\n"
     ]
    },
    {
     "name": "stderr",
     "output_type": "stream",
     "text": [
      "127.0.0.1 - - [03/Jun/2024 20:16:39] \"POST /predict HTTP/1.1\" 200 -\n",
      "INFO:werkzeug:127.0.0.1 - - [03/Jun/2024 20:16:39] \"POST /predict HTTP/1.1\" 200 -\n"
     ]
    },
    {
     "name": "stdout",
     "output_type": "stream",
     "text": [
      "Calculated Metrics - RMSE: 3.1278164984164163, MAE: 2.4679833514873817, R2: 0.7688764972448672, Data Drift Score: 2.5336454827554905e-95, Data Drift Percentage: 100.0%\n",
      "\u001b[1m1/1\u001b[0m \u001b[32m━━━━━━━━━━━━━━━━━━━━\u001b[0m\u001b[37m\u001b[0m \u001b[1m0s\u001b[0m 287ms/step\n"
     ]
    },
    {
     "name": "stderr",
     "output_type": "stream",
     "text": [
      "127.0.0.1 - - [03/Jun/2024 20:17:40] \"POST /predict HTTP/1.1\" 200 -\n",
      "INFO:werkzeug:127.0.0.1 - - [03/Jun/2024 20:17:40] \"POST /predict HTTP/1.1\" 200 -\n"
     ]
    },
    {
     "name": "stdout",
     "output_type": "stream",
     "text": [
      "Calculated Metrics - RMSE: 3.3356119362024517, MAE: 2.625846732003345, R2: 0.7379376972048237, Data Drift Score: 1.9969619568516154e-96, Data Drift Percentage: 100.0%\n",
      "\u001b[1m1/1\u001b[0m \u001b[32m━━━━━━━━━━━━━━━━━━━━\u001b[0m\u001b[37m\u001b[0m \u001b[1m0s\u001b[0m 258ms/step\n"
     ]
    },
    {
     "name": "stderr",
     "output_type": "stream",
     "text": [
      "127.0.0.1 - - [03/Jun/2024 20:18:40] \"POST /predict HTTP/1.1\" 200 -\n",
      "INFO:werkzeug:127.0.0.1 - - [03/Jun/2024 20:18:40] \"POST /predict HTTP/1.1\" 200 -\n"
     ]
    },
    {
     "name": "stdout",
     "output_type": "stream",
     "text": [
      "Calculated Metrics - RMSE: 7.850067191591878, MAE: 6.922558724539621, R2: -0.2069946797404223, Data Drift Score: 1.9969619568516154e-96, Data Drift Percentage: 100.0%\n",
      "\u001b[1m1/1\u001b[0m \u001b[32m━━━━━━━━━━━━━━━━━━━━\u001b[0m\u001b[37m\u001b[0m \u001b[1m0s\u001b[0m 263ms/step\n"
     ]
    },
    {
     "name": "stderr",
     "output_type": "stream",
     "text": [
      "127.0.0.1 - - [03/Jun/2024 20:19:41] \"POST /predict HTTP/1.1\" 200 -\n",
      "INFO:werkzeug:127.0.0.1 - - [03/Jun/2024 20:19:41] \"POST /predict HTTP/1.1\" 200 -\n"
     ]
    },
    {
     "name": "stdout",
     "output_type": "stream",
     "text": [
      "Calculated Metrics - RMSE: 4.578075498870107, MAE: 3.057927433894229, R2: 0.055508233908335924, Data Drift Score: 2.5336454827554905e-95, Data Drift Percentage: 100.0%\n",
      "\u001b[1m1/1\u001b[0m \u001b[32m━━━━━━━━━━━━━━━━━━━━\u001b[0m\u001b[37m\u001b[0m \u001b[1m0s\u001b[0m 249ms/step\n"
     ]
    },
    {
     "name": "stderr",
     "output_type": "stream",
     "text": [
      "127.0.0.1 - - [03/Jun/2024 20:20:41] \"POST /predict HTTP/1.1\" 200 -\n",
      "INFO:werkzeug:127.0.0.1 - - [03/Jun/2024 20:20:41] \"POST /predict HTTP/1.1\" 200 -\n"
     ]
    },
    {
     "name": "stdout",
     "output_type": "stream",
     "text": [
      "Calculated Metrics - RMSE: 4.054066094439727, MAE: 3.120583597819009, R2: 0.7789460439221649, Data Drift Score: 3.2615658516106344e-94, Data Drift Percentage: 100.0%\n",
      "\u001b[1m1/1\u001b[0m \u001b[32m━━━━━━━━━━━━━━━━━━━━\u001b[0m\u001b[37m\u001b[0m \u001b[1m0s\u001b[0m 255ms/step\n"
     ]
    },
    {
     "name": "stderr",
     "output_type": "stream",
     "text": [
      "127.0.0.1 - - [03/Jun/2024 20:21:42] \"POST /predict HTTP/1.1\" 200 -\n",
      "INFO:werkzeug:127.0.0.1 - - [03/Jun/2024 20:21:42] \"POST /predict HTTP/1.1\" 200 -\n"
     ]
    },
    {
     "name": "stdout",
     "output_type": "stream",
     "text": [
      "Calculated Metrics - RMSE: 2.3505342560960636, MAE: 1.7738939490685062, R2: 0.5884858567609317, Data Drift Score: 2.5336454827554905e-95, Data Drift Percentage: 100.0%\n",
      "\u001b[1m1/1\u001b[0m \u001b[32m━━━━━━━━━━━━━━━━━━━━\u001b[0m\u001b[37m\u001b[0m \u001b[1m0s\u001b[0m 251ms/step\n"
     ]
    },
    {
     "name": "stderr",
     "output_type": "stream",
     "text": [
      "127.0.0.1 - - [03/Jun/2024 20:22:43] \"POST /predict HTTP/1.1\" 200 -\n",
      "INFO:werkzeug:127.0.0.1 - - [03/Jun/2024 20:22:43] \"POST /predict HTTP/1.1\" 200 -\n"
     ]
    },
    {
     "name": "stdout",
     "output_type": "stream",
     "text": [
      "Calculated Metrics - RMSE: 3.5525439242856436, MAE: 2.733650163922984, R2: -0.16757191051906606, Data Drift Score: 1.9969619568516154e-96, Data Drift Percentage: 100.0%\n",
      "\u001b[1m1/1\u001b[0m \u001b[32m━━━━━━━━━━━━━━━━━━━━\u001b[0m\u001b[37m\u001b[0m \u001b[1m0s\u001b[0m 239ms/step\n"
     ]
    },
    {
     "name": "stderr",
     "output_type": "stream",
     "text": [
      "127.0.0.1 - - [03/Jun/2024 20:23:43] \"POST /predict HTTP/1.1\" 200 -\n",
      "INFO:werkzeug:127.0.0.1 - - [03/Jun/2024 20:23:43] \"POST /predict HTTP/1.1\" 200 -\n"
     ]
    },
    {
     "name": "stdout",
     "output_type": "stream",
     "text": [
      "Calculated Metrics - RMSE: 3.6854744916334696, MAE: 2.3885333760579477, R2: 0.5171063987882525, Data Drift Score: 3.2615658516106344e-94, Data Drift Percentage: 100.0%\n",
      "\u001b[1m1/1\u001b[0m \u001b[32m━━━━━━━━━━━━━━━━━━━━\u001b[0m\u001b[37m\u001b[0m \u001b[1m0s\u001b[0m 245ms/step\n"
     ]
    },
    {
     "name": "stderr",
     "output_type": "stream",
     "text": [
      "127.0.0.1 - - [03/Jun/2024 20:24:44] \"POST /predict HTTP/1.1\" 200 -\n",
      "INFO:werkzeug:127.0.0.1 - - [03/Jun/2024 20:24:44] \"POST /predict HTTP/1.1\" 200 -\n"
     ]
    },
    {
     "name": "stdout",
     "output_type": "stream",
     "text": [
      "Calculated Metrics - RMSE: 3.433621867089639, MAE: 2.7661273748224433, R2: 0.24465149539127884, Data Drift Score: 4.261077967426796e-93, Data Drift Percentage: 100.0%\n",
      "\u001b[1m1/1\u001b[0m \u001b[32m━━━━━━━━━━━━━━━━━━━━\u001b[0m\u001b[37m\u001b[0m \u001b[1m0s\u001b[0m 265ms/step\n"
     ]
    },
    {
     "name": "stderr",
     "output_type": "stream",
     "text": [
      "127.0.0.1 - - [03/Jun/2024 20:25:44] \"POST /predict HTTP/1.1\" 200 -\n",
      "INFO:werkzeug:127.0.0.1 - - [03/Jun/2024 20:25:44] \"POST /predict HTTP/1.1\" 200 -\n"
     ]
    },
    {
     "name": "stdout",
     "output_type": "stream",
     "text": [
      "Calculated Metrics - RMSE: 3.352997347455731, MAE: 2.8945914713541696, R2: -0.40138724901347733, Data Drift Score: 1.5965870503733696e-97, Data Drift Percentage: 100.0%\n",
      "\u001b[1m1/1\u001b[0m \u001b[32m━━━━━━━━━━━━━━━━━━━━\u001b[0m\u001b[37m\u001b[0m \u001b[1m0s\u001b[0m 256ms/step\n"
     ]
    },
    {
     "name": "stderr",
     "output_type": "stream",
     "text": [
      "127.0.0.1 - - [03/Jun/2024 20:26:45] \"POST /predict HTTP/1.1\" 200 -\n",
      "INFO:werkzeug:127.0.0.1 - - [03/Jun/2024 20:26:45] \"POST /predict HTTP/1.1\" 200 -\n"
     ]
    },
    {
     "name": "stdout",
     "output_type": "stream",
     "text": [
      "Calculated Metrics - RMSE: 3.6534492485308663, MAE: 2.683123209635418, R2: 0.7305045784135648, Data Drift Score: 1.5965870503733696e-97, Data Drift Percentage: 100.0%\n",
      "\u001b[1m1/1\u001b[0m \u001b[32m━━━━━━━━━━━━━━━━━━━━\u001b[0m\u001b[37m\u001b[0m \u001b[1m0s\u001b[0m 290ms/step\n"
     ]
    },
    {
     "name": "stderr",
     "output_type": "stream",
     "text": [
      "127.0.0.1 - - [03/Jun/2024 20:27:45] \"POST /predict HTTP/1.1\" 200 -\n",
      "INFO:werkzeug:127.0.0.1 - - [03/Jun/2024 20:27:45] \"POST /predict HTTP/1.1\" 200 -\n"
     ]
    },
    {
     "name": "stdout",
     "output_type": "stream",
     "text": [
      "Calculated Metrics - RMSE: 4.6472746287156586, MAE: 4.016531110491067, R2: 0.6053397780124843, Data Drift Score: 1.9969619568516154e-96, Data Drift Percentage: 100.0%\n",
      "\u001b[1m1/1\u001b[0m \u001b[32m━━━━━━━━━━━━━━━━━━━━\u001b[0m\u001b[37m\u001b[0m \u001b[1m0s\u001b[0m 274ms/step\n"
     ]
    },
    {
     "name": "stderr",
     "output_type": "stream",
     "text": [
      "127.0.0.1 - - [03/Jun/2024 20:28:46] \"POST /predict HTTP/1.1\" 200 -\n",
      "INFO:werkzeug:127.0.0.1 - - [03/Jun/2024 20:28:46] \"POST /predict HTTP/1.1\" 200 -\n"
     ]
    },
    {
     "name": "stdout",
     "output_type": "stream",
     "text": [
      "Calculated Metrics - RMSE: 6.245007854095246, MAE: 4.853394470214852, R2: 0.82268354547898, Data Drift Score: 3.2615658516106344e-94, Data Drift Percentage: 100.0%\n",
      "\u001b[1m1/1\u001b[0m \u001b[32m━━━━━━━━━━━━━━━━━━━━\u001b[0m\u001b[37m\u001b[0m \u001b[1m0s\u001b[0m 277ms/step\n"
     ]
    },
    {
     "name": "stderr",
     "output_type": "stream",
     "text": [
      "127.0.0.1 - - [03/Jun/2024 20:29:47] \"POST /predict HTTP/1.1\" 200 -\n",
      "INFO:werkzeug:127.0.0.1 - - [03/Jun/2024 20:29:47] \"POST /predict HTTP/1.1\" 200 -\n"
     ]
    },
    {
     "name": "stdout",
     "output_type": "stream",
     "text": [
      "Calculated Metrics - RMSE: 4.651115734530588, MAE: 3.777641078404019, R2: -0.6792830759075636, Data Drift Score: 1.9969619568516154e-96, Data Drift Percentage: 100.0%\n",
      "\u001b[1m1/1\u001b[0m \u001b[32m━━━━━━━━━━━━━━━━━━━━\u001b[0m\u001b[37m\u001b[0m \u001b[1m0s\u001b[0m 274ms/step\n"
     ]
    },
    {
     "name": "stderr",
     "output_type": "stream",
     "text": [
      "127.0.0.1 - - [03/Jun/2024 20:30:47] \"POST /predict HTTP/1.1\" 200 -\n",
      "INFO:werkzeug:127.0.0.1 - - [03/Jun/2024 20:30:47] \"POST /predict HTTP/1.1\" 200 -\n"
     ]
    },
    {
     "name": "stdout",
     "output_type": "stream",
     "text": [
      "Calculated Metrics - RMSE: 4.113370594770726, MAE: 2.977122314453133, R2: -0.27903209764566306, Data Drift Score: 1.5965870503733696e-97, Data Drift Percentage: 100.0%\n",
      "\u001b[1m1/1\u001b[0m \u001b[32m━━━━━━━━━━━━━━━━━━━━\u001b[0m\u001b[37m\u001b[0m \u001b[1m0s\u001b[0m 270ms/step\n"
     ]
    },
    {
     "name": "stderr",
     "output_type": "stream",
     "text": [
      "127.0.0.1 - - [03/Jun/2024 20:31:48] \"POST /predict HTTP/1.1\" 200 -\n",
      "INFO:werkzeug:127.0.0.1 - - [03/Jun/2024 20:31:48] \"POST /predict HTTP/1.1\" 200 -\n"
     ]
    },
    {
     "name": "stdout",
     "output_type": "stream",
     "text": [
      "Calculated Metrics - RMSE: 4.377687422561092, MAE: 3.77609357561384, R2: -0.04136329953567586, Data Drift Score: 1.9969619568516154e-96, Data Drift Percentage: 100.0%\n",
      "\u001b[1m1/1\u001b[0m \u001b[32m━━━━━━━━━━━━━━━━━━━━\u001b[0m\u001b[37m\u001b[0m \u001b[1m0s\u001b[0m 304ms/step\n"
     ]
    },
    {
     "name": "stderr",
     "output_type": "stream",
     "text": [
      "127.0.0.1 - - [03/Jun/2024 20:32:48] \"POST /predict HTTP/1.1\" 200 -\n",
      "INFO:werkzeug:127.0.0.1 - - [03/Jun/2024 20:32:48] \"POST /predict HTTP/1.1\" 200 -\n"
     ]
    },
    {
     "name": "stdout",
     "output_type": "stream",
     "text": [
      "Calculated Metrics - RMSE: 3.309828519131584, MAE: 2.7245065307617247, R2: -0.2767963301717724, Data Drift Score: 3.2615658516106344e-94, Data Drift Percentage: 100.0%\n",
      "\u001b[1m1/1\u001b[0m \u001b[32m━━━━━━━━━━━━━━━━━━━━\u001b[0m\u001b[37m\u001b[0m \u001b[1m0s\u001b[0m 266ms/step\n"
     ]
    },
    {
     "name": "stderr",
     "output_type": "stream",
     "text": [
      "127.0.0.1 - - [03/Jun/2024 20:33:49] \"POST /predict HTTP/1.1\" 200 -\n",
      "INFO:werkzeug:127.0.0.1 - - [03/Jun/2024 20:33:49] \"POST /predict HTTP/1.1\" 200 -\n"
     ]
    },
    {
     "name": "stdout",
     "output_type": "stream",
     "text": [
      "Calculated Metrics - RMSE: 5.8119234416335575, MAE: 4.881208583286837, R2: -0.015757802264179332, Data Drift Score: 1.9969619568516154e-96, Data Drift Percentage: 100.0%\n",
      "\u001b[1m1/1\u001b[0m \u001b[32m━━━━━━━━━━━━━━━━━━━━\u001b[0m\u001b[37m\u001b[0m \u001b[1m0s\u001b[0m 273ms/step\n"
     ]
    },
    {
     "name": "stderr",
     "output_type": "stream",
     "text": [
      "127.0.0.1 - - [03/Jun/2024 20:34:50] \"POST /predict HTTP/1.1\" 200 -\n",
      "INFO:werkzeug:127.0.0.1 - - [03/Jun/2024 20:34:50] \"POST /predict HTTP/1.1\" 200 -\n"
     ]
    },
    {
     "name": "stdout",
     "output_type": "stream",
     "text": [
      "Calculated Metrics - RMSE: 9.183429373973588, MAE: 7.539024902343772, R2: 0.42163844177114185, Data Drift Score: 1.5965870503733696e-97, Data Drift Percentage: 100.0%\n",
      "\u001b[1m1/1\u001b[0m \u001b[32m━━━━━━━━━━━━━━━━━━━━\u001b[0m\u001b[37m\u001b[0m \u001b[1m0s\u001b[0m 271ms/step\n"
     ]
    },
    {
     "name": "stderr",
     "output_type": "stream",
     "text": [
      "127.0.0.1 - - [03/Jun/2024 20:35:50] \"POST /predict HTTP/1.1\" 200 -\n",
      "INFO:werkzeug:127.0.0.1 - - [03/Jun/2024 20:35:50] \"POST /predict HTTP/1.1\" 200 -\n"
     ]
    },
    {
     "name": "stdout",
     "output_type": "stream",
     "text": [
      "Calculated Metrics - RMSE: 11.303340904129863, MAE: 8.508515624999998, R2: 0.1757801482489666, Data Drift Score: 1.9969619568516154e-96, Data Drift Percentage: 100.0%\n",
      "\u001b[1m1/1\u001b[0m \u001b[32m━━━━━━━━━━━━━━━━━━━━\u001b[0m\u001b[37m\u001b[0m \u001b[1m0s\u001b[0m 267ms/step\n"
     ]
    },
    {
     "name": "stderr",
     "output_type": "stream",
     "text": [
      "127.0.0.1 - - [03/Jun/2024 20:36:51] \"POST /predict HTTP/1.1\" 200 -\n",
      "INFO:werkzeug:127.0.0.1 - - [03/Jun/2024 20:36:51] \"POST /predict HTTP/1.1\" 200 -\n"
     ]
    },
    {
     "name": "stdout",
     "output_type": "stream",
     "text": [
      "Calculated Metrics - RMSE: 10.316933342108394, MAE: 9.172777913411457, R2: 0.6293499957806914, Data Drift Score: 3.2615658516106344e-94, Data Drift Percentage: 100.0%\n",
      "\u001b[1m1/1\u001b[0m \u001b[32m━━━━━━━━━━━━━━━━━━━━\u001b[0m\u001b[37m\u001b[0m \u001b[1m0s\u001b[0m 278ms/step\n"
     ]
    },
    {
     "name": "stderr",
     "output_type": "stream",
     "text": [
      "127.0.0.1 - - [03/Jun/2024 20:37:52] \"POST /predict HTTP/1.1\" 200 -\n",
      "INFO:werkzeug:127.0.0.1 - - [03/Jun/2024 20:37:52] \"POST /predict HTTP/1.1\" 200 -\n"
     ]
    },
    {
     "name": "stdout",
     "output_type": "stream",
     "text": [
      "Calculated Metrics - RMSE: 9.132595848680374, MAE: 6.902045735677097, R2: -0.07458941268341368, Data Drift Score: 1.5965870503733696e-97, Data Drift Percentage: 100.0%\n",
      "\u001b[1m1/1\u001b[0m \u001b[32m━━━━━━━━━━━━━━━━━━━━\u001b[0m\u001b[37m\u001b[0m \u001b[1m1s\u001b[0m 655ms/step\n"
     ]
    },
    {
     "name": "stderr",
     "output_type": "stream",
     "text": [
      "127.0.0.1 - - [03/Jun/2024 20:38:52] \"POST /predict HTTP/1.1\" 200 -\n",
      "INFO:werkzeug:127.0.0.1 - - [03/Jun/2024 20:38:52] \"POST /predict HTTP/1.1\" 200 -\n"
     ]
    },
    {
     "name": "stdout",
     "output_type": "stream",
     "text": [
      "Calculated Metrics - RMSE: 8.036128428156418, MAE: 6.759111502511156, R2: 0.8729638741586693, Data Drift Score: 1.9969619568516154e-96, Data Drift Percentage: 100.0%\n",
      "\u001b[1m1/1\u001b[0m \u001b[32m━━━━━━━━━━━━━━━━━━━━\u001b[0m\u001b[37m\u001b[0m \u001b[1m0s\u001b[0m 270ms/step\n"
     ]
    },
    {
     "name": "stderr",
     "output_type": "stream",
     "text": [
      "127.0.0.1 - - [03/Jun/2024 20:39:53] \"POST /predict HTTP/1.1\" 200 -\n",
      "INFO:werkzeug:127.0.0.1 - - [03/Jun/2024 20:39:53] \"POST /predict HTTP/1.1\" 200 -\n"
     ]
    },
    {
     "name": "stdout",
     "output_type": "stream",
     "text": [
      "Calculated Metrics - RMSE: 7.1038288688817595, MAE: 6.059611253004811, R2: -0.9497602458540271, Data Drift Score: 2.5336454827554905e-95, Data Drift Percentage: 100.0%\n",
      "\u001b[1m1/1\u001b[0m \u001b[32m━━━━━━━━━━━━━━━━━━━━\u001b[0m\u001b[37m\u001b[0m \u001b[1m0s\u001b[0m 267ms/step\n"
     ]
    },
    {
     "name": "stderr",
     "output_type": "stream",
     "text": [
      "127.0.0.1 - - [03/Jun/2024 20:40:54] \"POST /predict HTTP/1.1\" 200 -\n",
      "INFO:werkzeug:127.0.0.1 - - [03/Jun/2024 20:40:54] \"POST /predict HTTP/1.1\" 200 -\n"
     ]
    },
    {
     "name": "stdout",
     "output_type": "stream",
     "text": [
      "Calculated Metrics - RMSE: 10.265376331634734, MAE: 8.187961222330728, R2: 0.15383396926821236, Data Drift Score: 3.2615658516106344e-94, Data Drift Percentage: 100.0%\n",
      "\u001b[1m1/1\u001b[0m \u001b[32m━━━━━━━━━━━━━━━━━━━━\u001b[0m\u001b[37m\u001b[0m \u001b[1m0s\u001b[0m 280ms/step\n"
     ]
    },
    {
     "name": "stderr",
     "output_type": "stream",
     "text": [
      "127.0.0.1 - - [03/Jun/2024 20:41:54] \"POST /predict HTTP/1.1\" 200 -\n",
      "INFO:werkzeug:127.0.0.1 - - [03/Jun/2024 20:41:54] \"POST /predict HTTP/1.1\" 200 -\n"
     ]
    },
    {
     "name": "stdout",
     "output_type": "stream",
     "text": [
      "Calculated Metrics - RMSE: 17.977162530917617, MAE: 13.682617938701933, R2: -0.48844250315472015, Data Drift Score: 2.5336454827554905e-95, Data Drift Percentage: 100.0%\n",
      "\u001b[1m1/1\u001b[0m \u001b[32m━━━━━━━━━━━━━━━━━━━━\u001b[0m\u001b[37m\u001b[0m \u001b[1m0s\u001b[0m 261ms/step\n"
     ]
    },
    {
     "name": "stderr",
     "output_type": "stream",
     "text": [
      "127.0.0.1 - - [03/Jun/2024 20:42:55] \"POST /predict HTTP/1.1\" 200 -\n",
      "INFO:werkzeug:127.0.0.1 - - [03/Jun/2024 20:42:55] \"POST /predict HTTP/1.1\" 200 -\n"
     ]
    },
    {
     "name": "stdout",
     "output_type": "stream",
     "text": [
      "Calculated Metrics - RMSE: 8.159124759733027, MAE: 6.678674692007226, R2: 0.779777709204304, Data Drift Score: 2.5336454827554905e-95, Data Drift Percentage: 100.0%\n"
     ]
    },
    {
     "name": "stderr",
     "output_type": "stream",
     "text": [
      "ERROR:__main__:Exception on /predict [POST]\n",
      "Traceback (most recent call last):\n",
      "  File \"/home/mguzman/venv/lib/python3.10/site-packages/flask/app.py\", line 1473, in wsgi_app\n",
      "    response = self.full_dispatch_request()\n",
      "  File \"/home/mguzman/venv/lib/python3.10/site-packages/flask/app.py\", line 882, in full_dispatch_request\n",
      "    rv = self.handle_user_exception(e)\n",
      "  File \"/home/mguzman/venv/lib/python3.10/site-packages/flask/app.py\", line 880, in full_dispatch_request\n",
      "    rv = self.dispatch_request()\n",
      "  File \"/home/mguzman/venv/lib/python3.10/site-packages/flask/app.py\", line 865, in dispatch_request\n",
      "    return self.ensure_sync(self.view_functions[rule.endpoint])(**view_args)  # type: ignore[no-any-return]\n",
      "  File \"/tmp/ipykernel_2998/864047430.py\", line 169, in trigger_prediction\n",
      "    train_data, test_data, test, y_test, scaler = load_and_preprocess_data(file_path, start_date, end_date)\n",
      "  File \"/tmp/ipykernel_2998/864047430.py\", line 78, in load_and_preprocess_data\n",
      "    test = np.reshape(test, (test.shape[0], test.shape[1],1))\n",
      "IndexError: tuple index out of range\n",
      "127.0.0.1 - - [03/Jun/2024 20:43:55] \"\u001b[35m\u001b[1mPOST /predict HTTP/1.1\u001b[0m\" 500 -\n",
      "INFO:werkzeug:127.0.0.1 - - [03/Jun/2024 20:43:55] \"\u001b[35m\u001b[1mPOST /predict HTTP/1.1\u001b[0m\" 500 -\n"
     ]
    }
   ],
   "source": [
    "import tensorflow as tf\n",
    "import pandas as pd\n",
    "import os\n",
    "import datetime as dt\n",
    "import numpy as np\n",
    "import math\n",
    "from sklearn.preprocessing import MinMaxScaler\n",
    "from prometheus_client import start_http_server, Gauge\n",
    "import mlflow\n",
    "import time\n",
    "from evidently.report import Report\n",
    "from evidently.metric_preset import DataDriftPreset\n",
    "from flask import Flask, request, jsonify\n",
    "from sklearn.metrics import mean_squared_error, mean_absolute_error, r2_score\n",
    "\n",
    "# Initialize Flask app\n",
    "app = Flask(__name__)\n",
    "\n",
    "# Define Prometheus metrics\n",
    "rmse_gauge = Gauge('model_rmse', 'Root Mean Square Error')\n",
    "mae_gauge = Gauge('model_mae', 'Mean Absolute Error')\n",
    "r2_gauge = Gauge('model_r2', 'R2 Score')\n",
    "data_drift_gauge = Gauge('data_drift', 'Data Drift')\n",
    "data_drift_score_gauge = Gauge('data_drift_score', 'Data Drift Score')\n",
    "data_drift_percentage_gauge = Gauge('data_drift_porcentage', 'Data Drift Percentage')\n",
    "\n",
    "def get_mlflow_metrics(run_id):\n",
    "    client = mlflow.tracking.MlflowClient()\n",
    "    metrics = client.get_run(run_id).data.metrics\n",
    "    return metrics\n",
    "\n",
    "def generate_evidently_metrics(reference_data, current_data):\n",
    "    report = Report(metrics=[DataDriftPreset()])\n",
    "    report.run(reference_data=reference_data, current_data=current_data)\n",
    "    evidently_metrics = report.as_dict()\n",
    "    #print(evidently_metrics)\n",
    "    data_drift = evidently_metrics['metrics'][0]['result']['dataset_drift']\n",
    "    data_drift_score = evidently_metrics['metrics'][1]['result']['drift_by_columns']['Open']['drift_score']\n",
    "    drifted_features = evidently_metrics['metrics'][0]['result']['number_of_drifted_columns']\n",
    "    total_features = evidently_metrics['metrics'][0]['result']['number_of_columns']\n",
    "    data_drift_percentage = (drifted_features / total_features) * 100\n",
    "    return data_drift_score, data_drift_percentage, data_drift\n",
    "\n",
    "def load_model(run_id):\n",
    "    model_uri = f\"runs:/{run_id}/AMAZON_LSTM\"\n",
    "    model = mlflow.keras.load_model(model_uri)\n",
    "    return model\n",
    "\n",
    "def load_and_preprocess_data(file_path, start_date, end_date):\n",
    "    df = pd.read_csv(file_path)\n",
    "    df = df[['Date', 'Open']]\n",
    "    df['Date'] = pd.to_datetime(df['Date'])\n",
    "    df.set_index('Date', inplace=True)\n",
    "    \n",
    "    train_data = df.loc[dt.datetime(2000, 4, 1):dt.datetime(2003, 4, 1)]\n",
    "    \n",
    "    data = df.loc[start_date:end_date]\n",
    "    \n",
    "    test_data = data\n",
    "    \n",
    "    scaler = MinMaxScaler(feature_range=(0,1))\n",
    "\n",
    "    # Selecting Open values\n",
    "    dataset_test = test_data.Open.values \n",
    "    # Reshaping 1D to 2D array\n",
    "    dataset_test = np.reshape(dataset_test, (-1,1)) \n",
    "    # Normalizing values between 0 and 1\n",
    "    scaled_test = scaler.fit_transform(dataset_test) \n",
    "\n",
    "    # Preparing test data for LSTM\n",
    "    test = []\n",
    "    for i in range(50, len(scaled_test)):\n",
    "        test.append(scaled_test[i-50:i, 0])\n",
    "\n",
    "    # The data is converted to numpy array\n",
    "    test = np.array(test)\n",
    "    # Reshaping\n",
    "    test = np.reshape(test, (test.shape[0], test.shape[1],1))\n",
    "\n",
    "    y_test = scaled_test[50:]\n",
    "    y_test = scaler.inverse_transform(y_test)\n",
    "\n",
    "    return train_data, test_data, test, y_test, scaler\n",
    "\n",
    "def make_predictions(model, test_data, scaler):\n",
    "    predictions = model.predict(test_data)\n",
    "    predictions = scaler.inverse_transform(predictions)\n",
    "    return predictions\n",
    "\n",
    "def log_metrics_to_mlflow(rmse, mae, r2, data_drift_score, data_drift_percentage, data_drift, run_id):\n",
    "    # Log metrics to the existing run\n",
    "    with mlflow.start_run(run_id=run_id):\n",
    "        mlflow.log_metric(\"rmse\", rmse)\n",
    "        mlflow.log_metric(\"mae\", mae)\n",
    "        mlflow.log_metric(\"r2\", r2)\n",
    "        mlflow.log_metric(\"data_drift_score\", data_drift_score)\n",
    "        mlflow.log_metric(\"data_drift\", data_drift)\n",
    "        mlflow.log_metric(\"data_drift_percentage\", data_drift_percentage)\n",
    "\n",
    "def update_metrics(run_id, reference_data, current_data):\n",
    "    metrics = get_mlflow_metrics(run_id)\n",
    "    rmse_gauge.set(metrics.get('rmse', 0))\n",
    "    mae_gauge.set(metrics.get('mae', 0))\n",
    "    r2_gauge.set(metrics.get('r2', 0))\n",
    "\n",
    "    data_drift_score, data_drift_percentage, data_drift  = generate_evidently_metrics(reference_data, current_data)\n",
    "    data_drift_score_gauge.set(data_drift_score)\n",
    "    data_drift_percentage_gauge.set(data_drift_percentage)\n",
    "    data_drift_gauge.set(data_drift)\n",
    "    return data_drift_score, data_drift_percentage, data_drift\n",
    "\n",
    "def calculate_and_update_metrics(model, test_data, y_true, scaler, run_id, reference_data, current_data):\n",
    "    y_pred = make_predictions(model, test_data, scaler)\n",
    "    \n",
    "    # Calculate RMSE\n",
    "    rmse = np.sqrt(mean_squared_error(y_true, y_pred))\n",
    "    rmse_gauge.set(rmse)\n",
    "\n",
    "    # Calculate MAE\n",
    "    mae = mean_absolute_error(y_true, y_pred)\n",
    "    mae_gauge.set(mae)\n",
    "\n",
    "    # Calculate R2 Score\n",
    "    r2 = r2_score(y_true, y_pred)\n",
    "    r2_gauge.set(r2)\n",
    "\n",
    "    # Update data drift metrics\n",
    "    data_drift_score, data_drift_percentage, data_drift = update_metrics(run_id, reference_data, current_data)\n",
    "\n",
    "    # Log all metrics to MLflow\n",
    "    log_metrics_to_mlflow(rmse, mae, r2, data_drift_score, data_drift_percentage, data_drift, run_id)\n",
    "\n",
    "    # Logging the calculated metrics\n",
    "    print(f\"Calculated Metrics - RMSE: {rmse}, MAE: {mae}, R2: {r2}, Data Drift Score: {data_drift_score}, Data Drift Percentage: {data_drift_percentage}%\")\n",
    "    \n",
    "    # Create a DataFrame with the metrics\n",
    "    metrics_df = pd.DataFrame({\n",
    "        'RMSE': [rmse],\n",
    "        'MAE': [mae],\n",
    "        'R2': [r2],\n",
    "        'Data Drift Score': [data_drift_score],\n",
    "        'Data Drift Percentage': [data_drift_percentage]\n",
    "    })\n",
    "\n",
    "    # Append the metrics to the CSV file\n",
    "    try:\n",
    "        existing_df = pd.read_csv(\"ayuda.csv\")\n",
    "        combined_df = pd.concat([existing_df, metrics_df], ignore_index=True)\n",
    "    except FileNotFoundError:\n",
    "        combined_df = metrics_df\n",
    "\n",
    "    combined_df.to_csv(\"ayuda.csv\", index=False)\n",
    "    \n",
    "    return y_pred\n",
    "\n",
    "@app.route('/predict', methods=['POST'])\n",
    "def trigger_prediction():\n",
    "    run_id = request.json.get('run_id')\n",
    "    file_path = request.json.get('file_path')\n",
    "    start_date = request.json.get('start_date')\n",
    "    end_date = request.json.get('end_date')\n",
    "    \n",
    "    if not all([run_id, file_path, start_date, end_date]):\n",
    "        return jsonify({\"error\": \"run_id, file_path, start_date, and end_date are required\"}), 400\n",
    "\n",
    "    start_date = dt.datetime.strptime(start_date, '%Y-%m-%d')\n",
    "    end_date = dt.datetime.strptime(end_date, '%Y-%m-%d')\n",
    "\n",
    "    train_data, test_data, test, y_test, scaler = load_and_preprocess_data(file_path, start_date, end_date)\n",
    "    \n",
    "    model = load_model(run_id)\n",
    "    y_pred = calculate_and_update_metrics(model, test, y_test, scaler, run_id, train_data, test_data)\n",
    "    \n",
    "    global current_train_data, current_test_data, current_test, current_y_test, current_model, current_scaler\n",
    "    current_train_data = train_data\n",
    "    current_test_data = test_data\n",
    "    current_test = test\n",
    "    current_y_test = y_test\n",
    "    current_model = model\n",
    "    current_scaler = scaler\n",
    "\n",
    "    return jsonify({\"message\": \"Prediction and metrics update successful\"})\n",
    "\n",
    "if __name__ == '__main__':\n",
    "    # Initial values\n",
    "    mlflow.set_tracking_uri(\"http://127.0.0.1:5000\")\n",
    "    run_id = '6852c887552646bcbe3f8c8e1aa98035'  # Replace with your MLflow run ID\n",
    "    file_path = 'directory/amzn.us.txt'\n",
    "    start_date = dt.datetime(2010, 4, 1)\n",
    "    end_date = dt.datetime(2017, 4, 1)\n",
    "\n",
    "    train_data, test_data, test, y_test, scaler = load_and_preprocess_data(file_path, start_date, end_date)\n",
    "    model = load_model(run_id)\n",
    "    \n",
    "    # Setting global variables to be used in the main loop\n",
    "    current_train_data = train_data\n",
    "    current_test_data = test_data\n",
    "    current_test = test\n",
    "    current_y_test = y_test\n",
    "    current_model = model\n",
    "    current_scaler = scaler\n",
    "\n",
    "    start_http_server(8000)  # Prometheus will scrape metrics from http://localhost:8000\n",
    "    \n",
    "    # Start Flask server\n",
    "    app.run(port=5001)  # The Flask server will run on http://localhost:5001\n",
    "\n",
    "    while True:\n",
    "        y_pred = calculate_and_update_metrics(current_model, current_test, current_y_test, current_scaler, run_id, current_train_data, current_test_data)\n",
    "        time.sleep(10)  # Update metrics every 10 seconds\n",
    "\n",
    "\n"
   ]
  },
  {
   "cell_type": "code",
   "execution_count": 7,
   "id": "316d44ce-b59b-44a9-87a8-f1f225f7a16f",
   "metadata": {},
   "outputs": [
    {
     "name": "stdout",
     "output_type": "stream",
     "text": [
      "{'metrics': [{'metric': 'DatasetDriftMetric', 'result': {'drift_share': 0.5, 'number_of_columns': 1, 'number_of_drifted_columns': 1, 'share_of_drifted_columns': 1.0, 'dataset_drift': True}}, {'metric': 'DataDriftTable', 'result': {'number_of_columns': 1, 'number_of_drifted_columns': 1, 'share_of_drifted_columns': 1.0, 'dataset_drift': True, 'drift_by_columns': {'Open': {'column_name': 'Open', 'column_type': 'num', 'stattest_name': 'K-S p_value', 'stattest_threshold': 0.05, 'drift_score': 2.7995936562559147e-125, 'drift_detected': True, 'current': {'small_distribution': {'x': [730.0, 744.7, 759.4, 774.1, 788.8, 803.5, 818.2, 832.9, 847.6, 862.3, 877.0], 'y': [0.0018020453214398285, 0.004054601973239646, 0.015317385232238544, 0.008109203946479291, 0.0045051133035995715, 0.005856647294679444, 0.007208181285759369, 0.01126278325899893, 0.009010226607199214, 0.0009010226607199142]}}, 'reference': {'small_distribution': {'x': [284.4, 333.15, 381.9, 430.65, 479.4, 528.15, 576.9, 625.65, 674.4, 723.15, 771.9], 'y': [0.005652872979605652, 0.002877210798002877, 0.0014893797072014893, 0.001117034780401117, 0.0012862824744012862, 0.0022002200220022, 0.0014555301684014556, 0.0014893797072014893, 0.001590928323601591, 0.001353981552001354]}}}}, 'current_fi': None, 'reference_fi': None}}]}\n"
     ]
    }
   ],
   "source": [
    "e = {'metrics': [{'metric': 'DatasetDriftMetric', 'result': {'drift_share': 0.5, 'number_of_columns': 1, 'number_of_drifted_columns': 1, 'share_of_drifted_columns': 1.0, 'dataset_drift': True}}, {'metric': 'DataDriftTable', 'result': {'number_of_columns': 1, 'number_of_drifted_columns': 1, 'share_of_drifted_columns': 1.0, 'dataset_drift': True, 'drift_by_columns': {'Open': {'column_name': 'Open', 'column_type': 'num', 'stattest_name': 'K-S p_value', 'stattest_threshold': 0.05, 'drift_score': 2.7995936562559147e-125, 'drift_detected': True, 'current': {'small_distribution': {'x': [730.0, 744.7, 759.4, 774.1, 788.8, 803.5, 818.2, 832.9, 847.6, 862.3, 877.0], 'y': [0.0018020453214398285, 0.004054601973239646, 0.015317385232238544, 0.008109203946479291, 0.0045051133035995715, 0.005856647294679444, 0.007208181285759369, 0.01126278325899893, 0.009010226607199214, 0.0009010226607199142]}}, 'reference': {'small_distribution': {'x': [284.4, 333.15, 381.9, 430.65, 479.4, 528.15, 576.9, 625.65, 674.4, 723.15, 771.9], 'y': [0.005652872979605652, 0.002877210798002877, 0.0014893797072014893, 0.001117034780401117, 0.0012862824744012862, 0.0022002200220022, 0.0014555301684014556, 0.0014893797072014893, 0.001590928323601591, 0.001353981552001354]}}}}, 'current_fi': None, 'reference_fi': None}}]}\n",
    "print(e)"
   ]
  },
  {
   "cell_type": "code",
   "execution_count": 4,
   "id": "36de48aa-4f76-4868-b257-17daefd25bd7",
   "metadata": {},
   "outputs": [
    {
     "data": {
      "text/plain": [
       "True"
      ]
     },
     "execution_count": 4,
     "metadata": {},
     "output_type": "execute_result"
    }
   ],
   "source": [
    "e['metrics'][0]['result']['dataset_drift']"
   ]
  },
  {
   "cell_type": "code",
   "execution_count": 14,
   "id": "6fd438b1-022c-4745-b9ba-587b1a75388d",
   "metadata": {},
   "outputs": [
    {
     "data": {
      "text/plain": [
       "2.7995936562559147e-125"
      ]
     },
     "execution_count": 14,
     "metadata": {},
     "output_type": "execute_result"
    }
   ],
   "source": [
    "e['metrics'][1]['result']['drift_by_columns']['Open']['drift_score']"
   ]
  },
  {
   "cell_type": "code",
   "execution_count": null,
   "id": "05a3e1c2-5d35-41d3-b2a2-b8a7a0a42dec",
   "metadata": {},
   "outputs": [],
   "source": []
  }
 ],
 "metadata": {
  "kernelspec": {
   "display_name": "Python 3 (ipykernel)",
   "language": "python",
   "name": "python3"
  },
  "language_info": {
   "codemirror_mode": {
    "name": "ipython",
    "version": 3
   },
   "file_extension": ".py",
   "mimetype": "text/x-python",
   "name": "python",
   "nbconvert_exporter": "python",
   "pygments_lexer": "ipython3",
   "version": "3.10.12"
  }
 },
 "nbformat": 4,
 "nbformat_minor": 5
}
